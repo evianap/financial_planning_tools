{
 "cells": [
  {
   "cell_type": "markdown",
   "metadata": {},
   "source": [
    "# Financial Planning with APIs and Simulations\n",
    "\n",
    "In this Challenge, you’ll create two financial analysis tools by using a single Jupyter notebook:\n",
    "\n",
    "Part 1: A financial planner for emergencies. The members will be able to use this tool to visualize their current savings. The members can then determine if they have enough reserves for an emergency fund.\n",
    "\n",
    "Part 2: A financial planner for retirement. This tool will forecast the performance of their retirement portfolio in 30 years. To do this, the tool will make an Alpaca API call via the Alpaca SDK to get historical price data for use in Monte Carlo simulations.\n",
    "\n",
    "You’ll use the information from the Monte Carlo simulation to answer questions about the portfolio in your Jupyter notebook.\n",
    "\n"
   ]
  },
  {
   "cell_type": "code",
   "execution_count": 1,
   "metadata": {},
   "outputs": [],
   "source": [
    "# Import the required libraries and dependencies\n",
    "import os\n",
    "import requests\n",
    "import json\n",
    "import pandas as pd\n",
    "from dotenv import load_dotenv\n",
    "import alpaca_trade_api as tradeapi\n",
    "from MCForecastTools import MCSimulation\n",
    "\n",
    "%matplotlib inline"
   ]
  },
  {
   "cell_type": "code",
   "execution_count": 2,
   "metadata": {},
   "outputs": [
    {
     "data": {
      "text/plain": [
       "True"
      ]
     },
     "execution_count": 2,
     "metadata": {},
     "output_type": "execute_result"
    }
   ],
   "source": [
    "# Load the environment variables from the .env file\n",
    "#by calling the load_dotenv function\n",
    "load_dotenv()"
   ]
  },
  {
   "cell_type": "markdown",
   "metadata": {},
   "source": [
    "## Part 1: Create a Financial Planner for Emergencies"
   ]
  },
  {
   "cell_type": "markdown",
   "metadata": {},
   "source": [
    "### Evaluate the Cryptocurrency Wallet by Using the Requests Library\n",
    "\n",
    "In this section, you’ll determine the current value of a member’s cryptocurrency wallet. You’ll collect the current prices for the Bitcoin and Ethereum cryptocurrencies by using the Python Requests library. For the prototype, you’ll assume that the member holds the 1.2 Bitcoins (BTC) and 5.3 Ethereum coins (ETH). To do all this, complete the following steps:\n",
    "\n",
    "1. Create a variable named `monthly_income`, and set its value to `12000`.\n",
    "\n",
    "2. Use the Requests library to get the current price (in US dollars) of Bitcoin (BTC) and Ethereum (ETH) by using the API endpoints that the starter code supplies.\n",
    "\n",
    "3. Navigate the JSON response object to access the current price of each coin, and store each in a variable.\n",
    "\n",
    "    > **Hint** Note the specific identifier for each cryptocurrency in the API JSON response. The Bitcoin identifier is `1`, and the Ethereum identifier is `1027`.\n",
    "\n",
    "4. Calculate the value, in US dollars, of the current amount of each cryptocurrency and of the entire cryptocurrency wallet.\n",
    "\n"
   ]
  },
  {
   "cell_type": "code",
   "execution_count": 3,
   "metadata": {},
   "outputs": [],
   "source": [
    "# The current number of coins for each cryptocurrency asset held in the portfolio.\n",
    "btc_coins = 1.2\n",
    "eth_coins = 5.3"
   ]
  },
  {
   "cell_type": "markdown",
   "metadata": {},
   "source": [
    "#### Step 1: Create a variable named `monthly_income`, and set its value to `12000`."
   ]
  },
  {
   "cell_type": "code",
   "execution_count": 4,
   "metadata": {},
   "outputs": [],
   "source": [
    "# The monthly amount for the member's household income\n",
    "# YOUR CODE HERE\n",
    "monthly_income = 12000"
   ]
  },
  {
   "cell_type": "markdown",
   "metadata": {},
   "source": [
    "#### Review the endpoint URLs for the API calls to Free Crypto API in order to get the current pricing information for both BTC and ETH."
   ]
  },
  {
   "cell_type": "code",
   "execution_count": 5,
   "metadata": {},
   "outputs": [],
   "source": [
    "# The Free Crypto API Call endpoint URLs for the held cryptocurrency assets\n",
    "btc_url = \"https://api.alternative.me/v2/ticker/Bitcoin/?convert=USD\"\n",
    "eth_url = \"https://api.alternative.me/v2/ticker/Ethereum/?convert=USD\""
   ]
  },
  {
   "cell_type": "markdown",
   "metadata": {},
   "source": [
    "#### Step 2. Use the Requests library to get the current price (in US dollars) of Bitcoin (BTC) and Ethereum (ETH) by using the API endpoints that the starter code supplied."
   ]
  },
  {
   "cell_type": "code",
   "execution_count": 6,
   "metadata": {},
   "outputs": [
    {
     "name": "stdout",
     "output_type": "stream",
     "text": [
      "{\n",
      "    \"data\": {\n",
      "        \"1\": {\n",
      "            \"circulating_supply\": 18950900,\n",
      "            \"id\": 1,\n",
      "            \"last_updated\": 1644206295,\n",
      "            \"max_supply\": 21000000,\n",
      "            \"name\": \"Bitcoin\",\n",
      "            \"quotes\": {\n",
      "                \"USD\": {\n",
      "                    \"market_cap\": 811273221799,\n",
      "                    \"percent_change_1h\": 0.940409802778176,\n",
      "                    \"percent_change_24h\": 3.38825518567432,\n",
      "                    \"percent_change_7d\": 13.0832276026794,\n",
      "                    \"percentage_change_1h\": 0.940409802778176,\n",
      "                    \"percentage_change_24h\": 3.38825518567432,\n",
      "                    \"percentage_change_7d\": 13.0832276026794,\n",
      "                    \"price\": 42953.0,\n",
      "                    \"volume_24h\": 16013122128\n",
      "                }\n",
      "            },\n",
      "            \"rank\": 1,\n",
      "            \"symbol\": \"BTC\",\n",
      "            \"total_supply\": 18950900,\n",
      "            \"website_slug\": \"bitcoin\"\n",
      "        }\n",
      "    },\n",
      "    \"metadata\": {\n",
      "        \"error\": null,\n",
      "        \"num_cryptocurrencies\": 3105,\n",
      "        \"timestamp\": 1644206295\n",
      "    }\n",
      "}\n"
     ]
    }
   ],
   "source": [
    "# Using the Python requests library, make an API call to access the current price of BTC\n",
    "btc_response = requests.get(btc_url).json()\n",
    "\n",
    "# Use the json.dumps function to review the response data from the API call\n",
    "# Use the indent and sort_keys parameters to make the response object readable\n",
    "# YOUR CODE HERE\n",
    "print(json.dumps(btc_response, indent= 4, sort_keys=True))"
   ]
  },
  {
   "cell_type": "code",
   "execution_count": 7,
   "metadata": {},
   "outputs": [
    {
     "name": "stdout",
     "output_type": "stream",
     "text": [
      "{\n",
      "    \"data\": {\n",
      "        \"1027\": {\n",
      "            \"circulating_supply\": 119476961,\n",
      "            \"id\": 1027,\n",
      "            \"last_updated\": 1644206326,\n",
      "            \"max_supply\": 0,\n",
      "            \"name\": \"Ethereum\",\n",
      "            \"quotes\": {\n",
      "                \"USD\": {\n",
      "                    \"market_cap\": 366479356636,\n",
      "                    \"percent_change_1h\": 0.938912994388998,\n",
      "                    \"percent_change_24h\": 1.83550785318746,\n",
      "                    \"percent_change_7d\": 17.8639368599724,\n",
      "                    \"percentage_change_1h\": 0.938912994388998,\n",
      "                    \"percentage_change_24h\": 1.83550785318746,\n",
      "                    \"percentage_change_7d\": 17.8639368599724,\n",
      "                    \"price\": 3076.46,\n",
      "                    \"volume_24h\": 10459339765\n",
      "                }\n",
      "            },\n",
      "            \"rank\": 2,\n",
      "            \"symbol\": \"ETH\",\n",
      "            \"total_supply\": 119476961,\n",
      "            \"website_slug\": \"ethereum\"\n",
      "        }\n",
      "    },\n",
      "    \"metadata\": {\n",
      "        \"error\": null,\n",
      "        \"num_cryptocurrencies\": 3105,\n",
      "        \"timestamp\": 1644206326\n",
      "    }\n",
      "}\n"
     ]
    }
   ],
   "source": [
    "# Using the Python requests library, make an API call to access the current price ETH\n",
    "eth_response = requests.get(eth_url).json()\n",
    "\n",
    "# Use the json.dumps function to review the response data from the API call\n",
    "# Use the indent and sort_keys parameters to make the response object readable\n",
    "# YOUR CODE HERE\n",
    "print(json.dumps(eth_response, indent= 4, sort_keys=True))"
   ]
  },
  {
   "cell_type": "markdown",
   "metadata": {},
   "source": [
    "#### Step 3: Navigate the JSON response object to access the current price of each coin, and store each in a variable."
   ]
  },
  {
   "cell_type": "code",
   "execution_count": 8,
   "metadata": {},
   "outputs": [
    {
     "name": "stdout",
     "output_type": "stream",
     "text": [
      "The current price of Bitcoin is $42953.0\n"
     ]
    }
   ],
   "source": [
    "# Navigate the BTC response object to access the current price of BTC\n",
    "btc_price = btc_response[\"data\"][\"1\"][\"quotes\"][\"USD\"][\"price\"]\n",
    "\n",
    "# Print the current price of BTC\n",
    "\n",
    "print(f\"The current price of Bitcoin is ${btc_price}\")"
   ]
  },
  {
   "cell_type": "code",
   "execution_count": 9,
   "metadata": {},
   "outputs": [
    {
     "name": "stdout",
     "output_type": "stream",
     "text": [
      " The current price of Etherium is $3076.46\n"
     ]
    }
   ],
   "source": [
    "# Navigate the BTC response object to access the current price of ETH\n",
    "eth_price = eth_response[\"data\"][\"1027\"][\"quotes\"][\"USD\"][\"price\"]\n",
    "\n",
    "# Print the current price of ETH\n",
    "print(f\" The current price of Etherium is ${eth_price}\")\n"
   ]
  },
  {
   "cell_type": "markdown",
   "metadata": {},
   "source": [
    "### Step 4: Calculate the value, in US dollars, of the current amount of each cryptocurrency and of the entire cryptocurrency wallet."
   ]
  },
  {
   "cell_type": "code",
   "execution_count": 10,
   "metadata": {},
   "outputs": [
    {
     "name": "stdout",
     "output_type": "stream",
     "text": [
      "The current value of your BTC is $51543.60\n"
     ]
    }
   ],
   "source": [
    "# Compute the current value of the BTC holding \n",
    "btc_value = btc_price * btc_coins\n",
    "\n",
    "# Print current value of your holding in BTC\n",
    "print(f\"The current value of your BTC is ${btc_value:.2f}\")\n"
   ]
  },
  {
   "cell_type": "code",
   "execution_count": 11,
   "metadata": {},
   "outputs": [
    {
     "name": "stdout",
     "output_type": "stream",
     "text": [
      "The current value of your ETH is $16305.24\n"
     ]
    }
   ],
   "source": [
    "# Compute the current value of the ETH holding \n",
    "eth_value = eth_price * eth_coins\n",
    "\n",
    "# Print current value of your holding in ETH\n",
    "print(f\"The current value of your ETH is ${eth_value:.2f}\")\n"
   ]
  },
  {
   "cell_type": "code",
   "execution_count": 12,
   "metadata": {},
   "outputs": [
    {
     "name": "stdout",
     "output_type": "stream",
     "text": [
      "Your current cryptocurrency wallet balance is $67848.84\n"
     ]
    }
   ],
   "source": [
    "# Compute the total value of the cryptocurrency wallet\n",
    "# Add the value of the BTC holding to the value of the ETH holding\n",
    "total_crypto_wallet = btc_value + eth_value\n",
    "\n",
    "# Print current cryptocurrency wallet balance\n",
    "print(f\"Your current cryptocurrency wallet balance is ${total_crypto_wallet:.2f}\")\n"
   ]
  },
  {
   "cell_type": "markdown",
   "metadata": {},
   "source": [
    "### Evaluate the Stock and Bond Holdings by Using the Alpaca SDK\n",
    "\n",
    "In this section, you’ll determine the current value of a member’s stock and bond holdings. You’ll make an API call to Alpaca via the Alpaca SDK to get the current closing prices of the SPDR S&P 500 ETF Trust (ticker: SPY) and of the iShares Core US Aggregate Bond ETF (ticker: AGG). For the prototype, assume that the member holds 110 shares of SPY, which represents the stock portion of their portfolio, and 200 shares of AGG, which represents the bond portion. To do all this, complete the following steps:\n",
    "\n",
    "1. In the `Starter_Code` folder, create an environment file (`.env`) to store the values of your Alpaca API key and Alpaca secret key.\n",
    "\n",
    "2. Set the variables for the Alpaca API and secret keys. Using the Alpaca SDK, create the Alpaca `tradeapi.REST` object. In this object, include the parameters for the Alpaca API key, the secret key, and the version number.\n",
    "\n",
    "3. Set the following parameters for the Alpaca API call:\n",
    "\n",
    "    - `tickers`: Use the tickers for the member’s stock and bond holdings.\n",
    "\n",
    "    - `timeframe`: Use a time frame of one day.\n",
    "\n",
    "    - `start_date` and `end_date`: Use the same date for these parameters, and format them with the date of the previous weekday (or `2020-08-07`). This is because you want the one closing price for the most-recent trading day.\n",
    "\n",
    "4. Get the current closing prices for `SPY` and `AGG` by using the Alpaca `get_barset` function. Format the response as a Pandas DataFrame by including the `df` property at the end of the `get_barset` function.\n",
    "\n",
    "5. Navigating the Alpaca response DataFrame, select the `SPY` and `AGG` closing prices, and store them as variables.\n",
    "\n",
    "6. Calculate the value, in US dollars, of the current amount of shares in each of the stock and bond portions of the portfolio, and print the results.\n"
   ]
  },
  {
   "cell_type": "markdown",
   "metadata": {},
   "source": [
    "#### Review the total number of shares held in both (SPY) and (AGG)."
   ]
  },
  {
   "cell_type": "code",
   "execution_count": 13,
   "metadata": {},
   "outputs": [],
   "source": [
    "# Current amount of shares held in both the stock (SPY) and bond (AGG) portion of the portfolio.\n",
    "spy_shares = 110\n",
    "agg_shares = 200\n"
   ]
  },
  {
   "cell_type": "markdown",
   "metadata": {},
   "source": [
    "#### Step 1: In the `Starter_Code` folder, create an environment file (`.env`) to store the values of your Alpaca API key and Alpaca secret key."
   ]
  },
  {
   "cell_type": "markdown",
   "metadata": {},
   "source": [
    "#### Step 2: Set the variables for the Alpaca API and secret keys. Using the Alpaca SDK, create the Alpaca `tradeapi.REST` object. In this object, include the parameters for the Alpaca API key, the secret key, and the version number."
   ]
  },
  {
   "cell_type": "code",
   "execution_count": 14,
   "metadata": {},
   "outputs": [],
   "source": [
    "# Set the variables for the Alpaca API and secret keys\n",
    "alpaca_api_key = os.getenv(\"ALPACA_API_KEY\")\n",
    "alpaca_secret_key = os.getenv(\"ALPACA_SECRET_KEY\")\n",
    "\n",
    "# Create the Alpaca tradeapi.REST object\n",
    "alpaca = tradeapi.REST(\n",
    "    alpaca_api_key,\n",
    "    alpaca_secret_key,\n",
    "    api_version=\"V2\")\n"
   ]
  },
  {
   "cell_type": "markdown",
   "metadata": {},
   "source": [
    "#### Step 3: Set the following parameters for the Alpaca API call:\n",
    "\n",
    "- `tickers`: Use the tickers for the member’s stock and bond holdings.\n",
    "\n",
    "- `timeframe`: Use a time frame of one day.\n",
    "\n",
    "- `start_date` and `end_date`: Use the same date for these parameters, and format them with the date of the previous weekday (or `2020-08-07`). This is because you want the one closing price for the most-recent trading day.\n"
   ]
  },
  {
   "cell_type": "code",
   "execution_count": 15,
   "metadata": {},
   "outputs": [],
   "source": [
    "# Set the tickers for both the bond and stock portion of the portfolio\n",
    "tickers= [\"AGG\", \"SPY\"]\n",
    "\n",
    "# Set timeframe to 1D \n",
    "timeframe= \"1D\"\n",
    "\n",
    "# Format current date as ISO format\n",
    "# Set both the start and end date at the date of your prior weekday \n",
    "# This will give you the closing price of the previous trading day\n",
    "# Alternatively you can use a start and end date of 2020-08-07\n",
    "start_date = pd.Timestamp(\"2020-08-07\", tz=\"America/New_York\").isoformat()\n",
    "end_date = pd.Timestamp(\"2020-08-07\", tz=\"America/New_York\").isoformat()\n"
   ]
  },
  {
   "cell_type": "markdown",
   "metadata": {},
   "source": [
    "#### Step 4: Get the current closing prices for `SPY` and `AGG` by using the Alpaca `get_barset` function. Format the response as a Pandas DataFrame by including the `df` property at the end of the `get_barset` function."
   ]
  },
  {
   "cell_type": "code",
   "execution_count": 16,
   "metadata": {},
   "outputs": [
    {
     "name": "stderr",
     "output_type": "stream",
     "text": [
      "/var/folders/__/jrw9yxs105g5_flgkhw_3dxw0000gn/T/ipykernel_72580/2340481592.py:3: DeprecatedWarning: get_barset is deprecated as of v1.0.0. Use get_bars instead\n",
      "  prices_df = alpaca.get_barset(\n"
     ]
    },
    {
     "data": {
      "text/html": [
       "<div>\n",
       "<style scoped>\n",
       "    .dataframe tbody tr th:only-of-type {\n",
       "        vertical-align: middle;\n",
       "    }\n",
       "\n",
       "    .dataframe tbody tr th {\n",
       "        vertical-align: top;\n",
       "    }\n",
       "\n",
       "    .dataframe thead tr th {\n",
       "        text-align: left;\n",
       "    }\n",
       "\n",
       "    .dataframe thead tr:last-of-type th {\n",
       "        text-align: right;\n",
       "    }\n",
       "</style>\n",
       "<table border=\"1\" class=\"dataframe\">\n",
       "  <thead>\n",
       "    <tr>\n",
       "      <th></th>\n",
       "      <th colspan=\"5\" halign=\"left\">AGG</th>\n",
       "      <th colspan=\"5\" halign=\"left\">SPY</th>\n",
       "    </tr>\n",
       "    <tr>\n",
       "      <th></th>\n",
       "      <th>open</th>\n",
       "      <th>high</th>\n",
       "      <th>low</th>\n",
       "      <th>close</th>\n",
       "      <th>volume</th>\n",
       "      <th>open</th>\n",
       "      <th>high</th>\n",
       "      <th>low</th>\n",
       "      <th>close</th>\n",
       "      <th>volume</th>\n",
       "    </tr>\n",
       "    <tr>\n",
       "      <th>time</th>\n",
       "      <th></th>\n",
       "      <th></th>\n",
       "      <th></th>\n",
       "      <th></th>\n",
       "      <th></th>\n",
       "      <th></th>\n",
       "      <th></th>\n",
       "      <th></th>\n",
       "      <th></th>\n",
       "      <th></th>\n",
       "    </tr>\n",
       "  </thead>\n",
       "  <tbody>\n",
       "    <tr>\n",
       "      <th>2020-08-07 00:00:00-04:00</th>\n",
       "      <td>119.66</td>\n",
       "      <td>119.73</td>\n",
       "      <td>119.395</td>\n",
       "      <td>119.445</td>\n",
       "      <td>8830420</td>\n",
       "      <td>333.28</td>\n",
       "      <td>334.88</td>\n",
       "      <td>332.3</td>\n",
       "      <td>334.55</td>\n",
       "      <td>98710236</td>\n",
       "    </tr>\n",
       "  </tbody>\n",
       "</table>\n",
       "</div>"
      ],
      "text/plain": [
       "                              AGG                                        SPY  \\\n",
       "                             open    high      low    close   volume    open   \n",
       "time                                                                           \n",
       "2020-08-07 00:00:00-04:00  119.66  119.73  119.395  119.445  8830420  333.28   \n",
       "\n",
       "                                                            \n",
       "                             high    low   close    volume  \n",
       "time                                                        \n",
       "2020-08-07 00:00:00-04:00  334.88  332.3  334.55  98710236  "
      ]
     },
     "execution_count": 16,
     "metadata": {},
     "output_type": "execute_result"
    }
   ],
   "source": [
    "# Use the Alpaca get_barset function to get current closing prices the portfolio\n",
    "# Be sure to set the `df` property after the function to format the response object as a DataFrame\n",
    "prices_df = alpaca.get_barset(\n",
    "    tickers,\n",
    "    timeframe,\n",
    "    start= start_date,\n",
    "    end= end_date,\n",
    ").df\n",
    "\n",
    "\n",
    "# Review the first 5 rows of the Alpaca DataFrame\n",
    "prices_df.head()\n"
   ]
  },
  {
   "cell_type": "markdown",
   "metadata": {},
   "source": [
    "#### Step 5: Navigating the Alpaca response DataFrame, select the `SPY` and `AGG` closing prices, and store them as variables."
   ]
  },
  {
   "cell_type": "code",
   "execution_count": 17,
   "metadata": {},
   "outputs": [
    {
     "name": "stdout",
     "output_type": "stream",
     "text": [
      "119.445\n"
     ]
    }
   ],
   "source": [
    "# Access the closing price for AGG from the Alpaca DataFrame\n",
    "# Converting the value to a floating point number\n",
    "agg_close_price = float(prices_df[\"AGG\"][\"close\"])\n",
    "\n",
    "# Print the AGG closing price\n",
    "print(agg_close_price)"
   ]
  },
  {
   "cell_type": "code",
   "execution_count": 18,
   "metadata": {},
   "outputs": [
    {
     "name": "stdout",
     "output_type": "stream",
     "text": [
      "334.55\n"
     ]
    }
   ],
   "source": [
    "# Access the closing price for SPY from the Alpaca DataFrame\n",
    "# Converting the value to a floating point number\n",
    "spy_close_price = float(prices_df[\"SPY\"][\"close\"])\n",
    "\n",
    "# Print the SPY closing price\n",
    "print(spy_close_price)"
   ]
  },
  {
   "cell_type": "markdown",
   "metadata": {},
   "source": [
    "#### Step 6: Calculate the value, in US dollars, of the current amount of shares in each of the stock and bond portions of the portfolio, and print the results."
   ]
  },
  {
   "cell_type": "code",
   "execution_count": 19,
   "metadata": {},
   "outputs": [
    {
     "name": "stdout",
     "output_type": "stream",
     "text": [
      "The current value of the bond portfolio is $23889.0\n"
     ]
    }
   ],
   "source": [
    "# Calculate the current value of the bond portion of the portfolio\n",
    "agg_value = agg_close_price * agg_shares\n",
    "\n",
    "# Print the current value of the bond portfolio\n",
    "print(f\"The current value of the bond portfolio is ${agg_value}\")"
   ]
  },
  {
   "cell_type": "code",
   "execution_count": 20,
   "metadata": {},
   "outputs": [
    {
     "name": "stdout",
     "output_type": "stream",
     "text": [
      "The current value of the stock portfolios is $36800.5\n"
     ]
    }
   ],
   "source": [
    "# Calculate the current value of the stock portion of the portfolio\n",
    "spy_value = spy_close_price * spy_shares\n",
    "\n",
    "# Print the current value of the stock portfolio\n",
    "print(f\"The current value of the stock portfolios is ${spy_value}\")\n"
   ]
  },
  {
   "cell_type": "code",
   "execution_count": 21,
   "metadata": {},
   "outputs": [
    {
     "name": "stdout",
     "output_type": "stream",
     "text": [
      "The current balance of the stock and bond portfolio is $60689.5\n"
     ]
    }
   ],
   "source": [
    "# Calculate the total value of the stock and bond portion of the portfolio\n",
    "total_stocks_bonds = spy_value + agg_value\n",
    "\n",
    "# Print the current balance of the stock and bond portion of the portfolio\n",
    "print(f\"The current balance of the stock and bond portfolio is ${total_stocks_bonds}\")"
   ]
  },
  {
   "cell_type": "code",
   "execution_count": 22,
   "metadata": {},
   "outputs": [
    {
     "name": "stdout",
     "output_type": "stream",
     "text": [
      "The current total balance of your crypto wallet, stock and bonds portfolio is $128538.34\n"
     ]
    }
   ],
   "source": [
    "# Calculate the total value of the member's entire savings portfolio\n",
    "# Add the value of the cryptocurrency walled to the value of the total stocks and bonds\n",
    "total_portfolio = total_crypto_wallet + total_stocks_bonds\n",
    "\n",
    "# Print total portfolio value\n",
    "print(f\"The current total balance of your crypto wallet, stock and bonds portfolio is ${total_portfolio:.2f}\" )"
   ]
  },
  {
   "cell_type": "markdown",
   "metadata": {},
   "source": [
    "### Evaluate the Emergency Fund\n",
    "\n",
    "In this section, you’ll use the valuations for the cryptocurrency wallet and for the stock and bond portions of the portfolio to determine if the credit union member has enough savings to build an emergency fund into their financial plan. To do this, complete the following steps:\n",
    "\n",
    "1. Create a Python list named `savings_data` that has two elements. The first element contains the total value of the cryptocurrency wallet. The second element contains the total value of the stock and bond portions of the portfolio.\n",
    "\n",
    "2. Use the `savings_data` list to create a Pandas DataFrame named `savings_df`, and then display this DataFrame. The function to create the DataFrame should take the following three parameters:\n",
    "\n",
    "    - `savings_data`: Use the list that you just created.\n",
    "\n",
    "    - `columns`: Set this parameter equal to a Python list with a single value called `amount`.\n",
    "\n",
    "    - `index`: Set this parameter equal to a Python list with the values of `crypto` and `stock/bond`.\n",
    "\n",
    "3. Use the `savings_df` DataFrame to plot a pie chart that visualizes the composition of the member’s portfolio. The y-axis of the pie chart uses `amount`. Be sure to add a title.\n",
    "\n",
    "4. Using Python, determine if the current portfolio has enough to create an emergency fund as part of the member’s financial plan. Ideally, an emergency fund should equal to three times the member’s monthly income. To do this, implement the following steps:\n",
    "\n",
    "    1. Create a variable named `emergency_fund_value`, and set it equal to three times the value of the member’s `monthly_income` of $12000. (You set this earlier in Part 1).\n",
    "\n",
    "    2. Create a series of three if statements to determine if the member’s total portfolio is large enough to fund the emergency portfolio:\n",
    "\n",
    "        1. If the total portfolio value is greater than the emergency fund value, display a message congratulating the member for having enough money in this fund.\n",
    "\n",
    "        2. Else if the total portfolio value is equal to the emergency fund value, display a message congratulating the member on reaching this important financial goal.\n",
    "\n",
    "        3. Else the total portfolio is less than the emergency fund value, so display a message showing how many dollars away the member is from reaching the goal. (Subtract the total portfolio value from the emergency fund value.)\n"
   ]
  },
  {
   "cell_type": "markdown",
   "metadata": {},
   "source": [
    "#### Step 1: Create a Python list named `savings_data` that has two elements. The first element contains the total value of the cryptocurrency wallet. The second element contains the total value of the stock and bond portions of the portfolio."
   ]
  },
  {
   "cell_type": "code",
   "execution_count": 23,
   "metadata": {},
   "outputs": [
    {
     "data": {
      "text/plain": [
       "[67848.838, 60689.5]"
      ]
     },
     "execution_count": 23,
     "metadata": {},
     "output_type": "execute_result"
    }
   ],
   "source": [
    "# Consolidate financial assets data into a Python list\n",
    "savings_data = [total_crypto_wallet, total_stocks_bonds]\n",
    "\n",
    "# Review the Python list savings_data\n",
    "savings_data    "
   ]
  },
  {
   "cell_type": "markdown",
   "metadata": {},
   "source": [
    "#### Step 2: Use the `savings_data` list to create a Pandas DataFrame named `savings_df`, and then display this DataFrame. The function to create the DataFrame should take the following three parameters:\n",
    "\n",
    "- `savings_data`: Use the list that you just created.\n",
    "\n",
    "- `columns`: Set this parameter equal to a Python list with a single value called `amount`.\n",
    "\n",
    "- `index`: Set this parameter equal to a Python list with the values of `crypto` and `stock/bond`.\n"
   ]
  },
  {
   "cell_type": "code",
   "execution_count": 24,
   "metadata": {},
   "outputs": [
    {
     "data": {
      "text/html": [
       "<div>\n",
       "<style scoped>\n",
       "    .dataframe tbody tr th:only-of-type {\n",
       "        vertical-align: middle;\n",
       "    }\n",
       "\n",
       "    .dataframe tbody tr th {\n",
       "        vertical-align: top;\n",
       "    }\n",
       "\n",
       "    .dataframe thead th {\n",
       "        text-align: right;\n",
       "    }\n",
       "</style>\n",
       "<table border=\"1\" class=\"dataframe\">\n",
       "  <thead>\n",
       "    <tr style=\"text-align: right;\">\n",
       "      <th></th>\n",
       "      <th>amount</th>\n",
       "    </tr>\n",
       "  </thead>\n",
       "  <tbody>\n",
       "    <tr>\n",
       "      <th>crypto</th>\n",
       "      <td>67848.838</td>\n",
       "    </tr>\n",
       "    <tr>\n",
       "      <th>stock/bond</th>\n",
       "      <td>60689.500</td>\n",
       "    </tr>\n",
       "  </tbody>\n",
       "</table>\n",
       "</div>"
      ],
      "text/plain": [
       "               amount\n",
       "crypto      67848.838\n",
       "stock/bond  60689.500"
      ]
     },
     "metadata": {},
     "output_type": "display_data"
    }
   ],
   "source": [
    "# Create a Pandas DataFrame called savings_df \n",
    "savings_df = pd.DataFrame(data = savings_data, columns= [\"amount\"], index= [\"crypto\", \"stock/bond\"])\n",
    "\n",
    "\n",
    "# Display the savings_df DataFrame\n",
    "# YOUR CODE HERE\n",
    "display(savings_df)"
   ]
  },
  {
   "cell_type": "markdown",
   "metadata": {},
   "source": [
    "#### Step 3: Use the `savings_df` DataFrame to plot a pie chart that visualizes the composition of the member’s portfolio. The y-axis of the pie chart uses `amount`. Be sure to add a title."
   ]
  },
  {
   "cell_type": "code",
   "execution_count": 25,
   "metadata": {},
   "outputs": [
    {
     "data": {
      "text/plain": [
       "<AxesSubplot:title={'center':'Portfolio Buildup'}, ylabel='amount'>"
      ]
     },
     "execution_count": 25,
     "metadata": {},
     "output_type": "execute_result"
    },
    {
     "data": {
      "image/png": "[encoded data removed]",
      "text/plain": [
       "<Figure size 432x288 with 1 Axes>"
      ]
     },
     "metadata": {},
     "output_type": "display_data"
    }
   ],
   "source": [
    "# Plot the total value of the member's portfolio (crypto and stock/bond) in a pie chart\n",
    "# YOUR CODE HERE\n",
    "savings_df.plot.pie(y=\"amount\", title= \"Portfolio Buildup\")"
   ]
  },
  {
   "cell_type": "markdown",
   "metadata": {},
   "source": [
    "#### Step 4: Using Python, determine if the current portfolio has enough to create an emergency fund as part of the member’s financial plan. Ideally, an emergency fund should equal to three times the member’s monthly income. To do this, implement the following steps:\n",
    "\n",
    "Step 1. Create a variable named `emergency_fund_value`, and set it equal to three times the value of the member’s `monthly_income` of 12000. (You set this earlier in Part 1).\n",
    "\n",
    "Step 2. Create a series of three if statements to determine if the member’s total portfolio is large enough to fund the emergency portfolio:\n",
    "\n",
    "* If the total portfolio value is greater than the emergency fund value, display a message congratulating the member for having enough money in this fund.\n",
    "\n",
    "* Else if the total portfolio value is equal to the emergency fund value, display a message congratulating the member on reaching this important financial goal.\n",
    "\n",
    "* Else the total portfolio is less than the emergency fund value, so display a message showing how many dollars away the member is from reaching the goal. (Subtract the total portfolio value from the emergency fund value.)\n"
   ]
  },
  {
   "cell_type": "markdown",
   "metadata": {},
   "source": [
    "##### Step 4-1: Create a variable named `emergency_fund_value`, and set it equal to three times the value of the member’s `monthly_income` of 12000. (You set this earlier in Part 1)."
   ]
  },
  {
   "cell_type": "code",
   "execution_count": 26,
   "metadata": {},
   "outputs": [],
   "source": [
    "# Create a variable named emergency_fund_value\n",
    "emergency_fund_value = monthly_income *3"
   ]
  },
  {
   "cell_type": "markdown",
   "metadata": {},
   "source": [
    "##### Step 4-2: Create a series of three if statements to determine if the member’s total portfolio is large enough to fund the emergency portfolio:\n",
    "\n",
    "* If the total portfolio value is greater than the emergency fund value, display a message congratulating the member for having enough money in this fund.\n",
    "\n",
    "* Else if the total portfolio value is equal to the emergency fund value, display a message congratulating the member on reaching this important financial goal.\n",
    "\n",
    "* Else the total portfolio is less than the emergency fund value, so display a message showing how many dollars away the member is from reaching the goal. (Subtract the total portfolio value from the emergency fund value.)"
   ]
  },
  {
   "cell_type": "code",
   "execution_count": 27,
   "metadata": {},
   "outputs": [
    {
     "name": "stdout",
     "output_type": "stream",
     "text": [
      "Congrats! You have enough money in this fund!\n"
     ]
    }
   ],
   "source": [
    "# Evaluate the possibility of creating an emergency fund with 3 conditions:\n",
    "if total_portfolio > emergency_fund_value:\n",
    "    print(\"Congrats! You have enough money in this fund!\")\n",
    "elif total_portfolio == emergency_fund_value:\n",
    "    print(\"Congrats on reaching this important financial goal!\")\n",
    "else: \n",
    "    print(f\"you are ${ emergency_fund_value - total_portfolio} short\")"
   ]
  },
  {
   "cell_type": "markdown",
   "metadata": {},
   "source": [
    "## Part 2: Create a Financial Planner for Retirement"
   ]
  },
  {
   "cell_type": "markdown",
   "metadata": {},
   "source": [
    "### Create the Monte Carlo Simulation\n",
    "\n",
    "In this section, you’ll use the MCForecastTools library to create a Monte Carlo simulation for the member’s savings portfolio. To do this, complete the following steps:\n",
    "\n",
    "1. Make an API call via the Alpaca SDK to get 3 years of historical closing prices for a traditional 60/40 portfolio split: 60% stocks (SPY) and 40% bonds (AGG).\n",
    "\n",
    "2. Run a Monte Carlo simulation of 500 samples and 30 years for the 60/40 portfolio, and then plot the results.The following image shows the overlay line plot resulting from a simulation with these characteristics. However, because a random number generator is used to run each live Monte Carlo simulation, your image will differ slightly from this exact image:\n",
    "\n",
    "![A screenshot depicts the resulting plot.](Images/5-4-monte-carlo-line-plot.png)\n",
    "\n",
    "3. Plot the probability distribution of the Monte Carlo simulation. Plot the probability distribution of the Monte Carlo simulation. The following image shows the histogram plot resulting from a simulation with these characteristics. However, because a random number generator is used to run each live Monte Carlo simulation, your image will differ slightly from this exact image:\n",
    "\n",
    "![A screenshot depicts the histogram plot.](Images/5-4-monte-carlo-histogram.png)\n",
    "\n",
    "4. Generate the summary statistics for the Monte Carlo simulation.\n",
    "\n"
   ]
  },
  {
   "cell_type": "markdown",
   "metadata": {},
   "source": [
    "#### Step 1: Make an API call via the Alpaca SDK to get 3 years of historical closing prices for a traditional 60/40 portfolio split: 60% stocks (SPY) and 40% bonds (AGG)."
   ]
  },
  {
   "cell_type": "code",
   "execution_count": 28,
   "metadata": {},
   "outputs": [],
   "source": [
    "# Set start and end dates of 3 years back from your current date\n",
    "# Alternatively, you can use an end date of 2020-08-07 and work 3 years back from that date \n",
    "start_date = \"2017-08-07\"\n",
    "end_date = \"2020-08-07\"\n",
    "\n",
    "\n",
    "# Set number of rows to 1000 to retrieve the maximum amount of rows\n",
    "limit_rows = 1000"
   ]
  },
  {
   "cell_type": "code",
   "execution_count": 29,
   "metadata": {},
   "outputs": [
    {
     "name": "stderr",
     "output_type": "stream",
     "text": [
      "/var/folders/__/jrw9yxs105g5_flgkhw_3dxw0000gn/T/ipykernel_72580/2273490593.py:5: DeprecatedWarning: get_barset is deprecated as of v1.0.0. Use get_bars instead\n",
      "  three_year_df = alpaca.get_barset(\n"
     ]
    },
    {
     "data": {
      "text/html": [
       "<div>\n",
       "<style scoped>\n",
       "    .dataframe tbody tr th:only-of-type {\n",
       "        vertical-align: middle;\n",
       "    }\n",
       "\n",
       "    .dataframe tbody tr th {\n",
       "        vertical-align: top;\n",
       "    }\n",
       "\n",
       "    .dataframe thead tr th {\n",
       "        text-align: left;\n",
       "    }\n",
       "\n",
       "    .dataframe thead tr:last-of-type th {\n",
       "        text-align: right;\n",
       "    }\n",
       "</style>\n",
       "<table border=\"1\" class=\"dataframe\">\n",
       "  <thead>\n",
       "    <tr>\n",
       "      <th></th>\n",
       "      <th colspan=\"5\" halign=\"left\">AGG</th>\n",
       "      <th colspan=\"5\" halign=\"left\">SPY</th>\n",
       "    </tr>\n",
       "    <tr>\n",
       "      <th></th>\n",
       "      <th>open</th>\n",
       "      <th>high</th>\n",
       "      <th>low</th>\n",
       "      <th>close</th>\n",
       "      <th>volume</th>\n",
       "      <th>open</th>\n",
       "      <th>high</th>\n",
       "      <th>low</th>\n",
       "      <th>close</th>\n",
       "      <th>volume</th>\n",
       "    </tr>\n",
       "    <tr>\n",
       "      <th>time</th>\n",
       "      <th></th>\n",
       "      <th></th>\n",
       "      <th></th>\n",
       "      <th></th>\n",
       "      <th></th>\n",
       "      <th></th>\n",
       "      <th></th>\n",
       "      <th></th>\n",
       "      <th></th>\n",
       "      <th></th>\n",
       "    </tr>\n",
       "  </thead>\n",
       "  <tbody>\n",
       "    <tr>\n",
       "      <th>2018-02-15 00:00:00-05:00</th>\n",
       "      <td>106.55</td>\n",
       "      <td>106.7272</td>\n",
       "      <td>106.5300</td>\n",
       "      <td>106.59</td>\n",
       "      <td>2398428.0</td>\n",
       "      <td>NaN</td>\n",
       "      <td>NaN</td>\n",
       "      <td>NaN</td>\n",
       "      <td>NaN</td>\n",
       "      <td>NaN</td>\n",
       "    </tr>\n",
       "    <tr>\n",
       "      <th>2018-02-16 00:00:00-05:00</th>\n",
       "      <td>106.85</td>\n",
       "      <td>106.8750</td>\n",
       "      <td>106.7100</td>\n",
       "      <td>106.81</td>\n",
       "      <td>3391074.0</td>\n",
       "      <td>272.31</td>\n",
       "      <td>275.32</td>\n",
       "      <td>272.27</td>\n",
       "      <td>273.09</td>\n",
       "      <td>76314679.0</td>\n",
       "    </tr>\n",
       "    <tr>\n",
       "      <th>2018-02-20 00:00:00-05:00</th>\n",
       "      <td>106.69</td>\n",
       "      <td>106.7099</td>\n",
       "      <td>106.5501</td>\n",
       "      <td>106.68</td>\n",
       "      <td>2372055.0</td>\n",
       "      <td>272.03</td>\n",
       "      <td>273.67</td>\n",
       "      <td>264.84</td>\n",
       "      <td>271.43</td>\n",
       "      <td>54829423.0</td>\n",
       "    </tr>\n",
       "    <tr>\n",
       "      <th>2018-02-21 00:00:00-05:00</th>\n",
       "      <td>106.77</td>\n",
       "      <td>106.8000</td>\n",
       "      <td>106.2601</td>\n",
       "      <td>106.30</td>\n",
       "      <td>3017853.0</td>\n",
       "      <td>271.90</td>\n",
       "      <td>274.72</td>\n",
       "      <td>269.98</td>\n",
       "      <td>270.00</td>\n",
       "      <td>67813909.0</td>\n",
       "    </tr>\n",
       "    <tr>\n",
       "      <th>2018-02-22 00:00:00-05:00</th>\n",
       "      <td>106.49</td>\n",
       "      <td>106.5600</td>\n",
       "      <td>106.3600</td>\n",
       "      <td>106.36</td>\n",
       "      <td>2150355.0</td>\n",
       "      <td>271.09</td>\n",
       "      <td>273.05</td>\n",
       "      <td>269.64</td>\n",
       "      <td>270.32</td>\n",
       "      <td>65771832.0</td>\n",
       "    </tr>\n",
       "  </tbody>\n",
       "</table>\n",
       "</div>"
      ],
      "text/plain": [
       "                              AGG                                         \\\n",
       "                             open      high       low   close     volume   \n",
       "time                                                                       \n",
       "2018-02-15 00:00:00-05:00  106.55  106.7272  106.5300  106.59  2398428.0   \n",
       "2018-02-16 00:00:00-05:00  106.85  106.8750  106.7100  106.81  3391074.0   \n",
       "2018-02-20 00:00:00-05:00  106.69  106.7099  106.5501  106.68  2372055.0   \n",
       "2018-02-21 00:00:00-05:00  106.77  106.8000  106.2601  106.30  3017853.0   \n",
       "2018-02-22 00:00:00-05:00  106.49  106.5600  106.3600  106.36  2150355.0   \n",
       "\n",
       "                              SPY                                      \n",
       "                             open    high     low   close      volume  \n",
       "time                                                                   \n",
       "2018-02-15 00:00:00-05:00     NaN     NaN     NaN     NaN         NaN  \n",
       "2018-02-16 00:00:00-05:00  272.31  275.32  272.27  273.09  76314679.0  \n",
       "2018-02-20 00:00:00-05:00  272.03  273.67  264.84  271.43  54829423.0  \n",
       "2018-02-21 00:00:00-05:00  271.90  274.72  269.98  270.00  67813909.0  \n",
       "2018-02-22 00:00:00-05:00  271.09  273.05  269.64  270.32  65771832.0  "
      ]
     },
     "metadata": {},
     "output_type": "display_data"
    },
    {
     "data": {
      "text/html": [
       "<div>\n",
       "<style scoped>\n",
       "    .dataframe tbody tr th:only-of-type {\n",
       "        vertical-align: middle;\n",
       "    }\n",
       "\n",
       "    .dataframe tbody tr th {\n",
       "        vertical-align: top;\n",
       "    }\n",
       "\n",
       "    .dataframe thead tr th {\n",
       "        text-align: left;\n",
       "    }\n",
       "\n",
       "    .dataframe thead tr:last-of-type th {\n",
       "        text-align: right;\n",
       "    }\n",
       "</style>\n",
       "<table border=\"1\" class=\"dataframe\">\n",
       "  <thead>\n",
       "    <tr>\n",
       "      <th></th>\n",
       "      <th colspan=\"5\" halign=\"left\">AGG</th>\n",
       "      <th colspan=\"5\" halign=\"left\">SPY</th>\n",
       "    </tr>\n",
       "    <tr>\n",
       "      <th></th>\n",
       "      <th>open</th>\n",
       "      <th>high</th>\n",
       "      <th>low</th>\n",
       "      <th>close</th>\n",
       "      <th>volume</th>\n",
       "      <th>open</th>\n",
       "      <th>high</th>\n",
       "      <th>low</th>\n",
       "      <th>close</th>\n",
       "      <th>volume</th>\n",
       "    </tr>\n",
       "    <tr>\n",
       "      <th>time</th>\n",
       "      <th></th>\n",
       "      <th></th>\n",
       "      <th></th>\n",
       "      <th></th>\n",
       "      <th></th>\n",
       "      <th></th>\n",
       "      <th></th>\n",
       "      <th></th>\n",
       "      <th></th>\n",
       "      <th></th>\n",
       "    </tr>\n",
       "  </thead>\n",
       "  <tbody>\n",
       "    <tr>\n",
       "      <th>2022-01-31 00:00:00-05:00</th>\n",
       "      <td>111.64</td>\n",
       "      <td>111.8900</td>\n",
       "      <td>111.6000</td>\n",
       "      <td>111.78</td>\n",
       "      <td>11437834.0</td>\n",
       "      <td>441.24</td>\n",
       "      <td>450.28</td>\n",
       "      <td>439.8100</td>\n",
       "      <td>449.815</td>\n",
       "      <td>128202383.0</td>\n",
       "    </tr>\n",
       "    <tr>\n",
       "      <th>2022-02-01 00:00:00-05:00</th>\n",
       "      <td>111.66</td>\n",
       "      <td>111.6764</td>\n",
       "      <td>111.3800</td>\n",
       "      <td>111.59</td>\n",
       "      <td>9477222.0</td>\n",
       "      <td>450.72</td>\n",
       "      <td>453.63</td>\n",
       "      <td>446.9384</td>\n",
       "      <td>452.960</td>\n",
       "      <td>106515279.0</td>\n",
       "    </tr>\n",
       "    <tr>\n",
       "      <th>2022-02-02 00:00:00-05:00</th>\n",
       "      <td>111.70</td>\n",
       "      <td>111.9700</td>\n",
       "      <td>111.6744</td>\n",
       "      <td>111.72</td>\n",
       "      <td>7424696.0</td>\n",
       "      <td>455.50</td>\n",
       "      <td>458.12</td>\n",
       "      <td>453.0500</td>\n",
       "      <td>457.300</td>\n",
       "      <td>97807976.0</td>\n",
       "    </tr>\n",
       "    <tr>\n",
       "      <th>2022-02-03 00:00:00-05:00</th>\n",
       "      <td>111.26</td>\n",
       "      <td>111.3700</td>\n",
       "      <td>111.1300</td>\n",
       "      <td>111.27</td>\n",
       "      <td>9480330.0</td>\n",
       "      <td>450.95</td>\n",
       "      <td>452.97</td>\n",
       "      <td>445.7100</td>\n",
       "      <td>446.640</td>\n",
       "      <td>99110054.0</td>\n",
       "    </tr>\n",
       "    <tr>\n",
       "      <th>2022-02-04 00:00:00-05:00</th>\n",
       "      <td>110.75</td>\n",
       "      <td>110.7500</td>\n",
       "      <td>110.4707</td>\n",
       "      <td>110.56</td>\n",
       "      <td>6762828.0</td>\n",
       "      <td>446.35</td>\n",
       "      <td>452.78</td>\n",
       "      <td>443.8300</td>\n",
       "      <td>448.730</td>\n",
       "      <td>98775229.0</td>\n",
       "    </tr>\n",
       "  </tbody>\n",
       "</table>\n",
       "</div>"
      ],
      "text/plain": [
       "                              AGG                                          \\\n",
       "                             open      high       low   close      volume   \n",
       "time                                                                        \n",
       "2022-01-31 00:00:00-05:00  111.64  111.8900  111.6000  111.78  11437834.0   \n",
       "2022-02-01 00:00:00-05:00  111.66  111.6764  111.3800  111.59   9477222.0   \n",
       "2022-02-02 00:00:00-05:00  111.70  111.9700  111.6744  111.72   7424696.0   \n",
       "2022-02-03 00:00:00-05:00  111.26  111.3700  111.1300  111.27   9480330.0   \n",
       "2022-02-04 00:00:00-05:00  110.75  110.7500  110.4707  110.56   6762828.0   \n",
       "\n",
       "                              SPY                                          \n",
       "                             open    high       low    close       volume  \n",
       "time                                                                       \n",
       "2022-01-31 00:00:00-05:00  441.24  450.28  439.8100  449.815  128202383.0  \n",
       "2022-02-01 00:00:00-05:00  450.72  453.63  446.9384  452.960  106515279.0  \n",
       "2022-02-02 00:00:00-05:00  455.50  458.12  453.0500  457.300   97807976.0  \n",
       "2022-02-03 00:00:00-05:00  450.95  452.97  445.7100  446.640   99110054.0  \n",
       "2022-02-04 00:00:00-05:00  446.35  452.78  443.8300  448.730   98775229.0  "
      ]
     },
     "metadata": {},
     "output_type": "display_data"
    },
    {
     "data": {
      "text/plain": [
       "['AGG', 'SPY']"
      ]
     },
     "execution_count": 29,
     "metadata": {},
     "output_type": "execute_result"
    }
   ],
   "source": [
    "# Use the Alpaca get_barset function to make the API call to get the 3 years worth of pricing data\n",
    "# The tickers and timeframe parameters should have been set in Part 1 of this activity \n",
    "# The start and end dates should be updated with the information set above\n",
    "# Remember to add the df property to the end of the call so the response is returned as a DataFrame\n",
    "three_year_df = alpaca.get_barset(\n",
    "    tickers,\n",
    "    timeframe,\n",
    "    start= start_date,\n",
    "    end= end_date,\n",
    "    limit= limit_rows\n",
    ").df\n",
    "\n",
    "\n",
    "# Display both the first and last five rows of the DataFrame\n",
    "display(three_year_df.head())\n",
    "display(three_year_df.tail())\n",
    "tickers\n"
   ]
  },
  {
   "cell_type": "markdown",
   "metadata": {},
   "source": [
    "#### Step 2: Run a Monte Carlo simulation of 500 samples and 30 years for the 60/40 portfolio, and then plot the results."
   ]
  },
  {
   "cell_type": "code",
   "execution_count": 30,
   "metadata": {},
   "outputs": [
    {
     "data": {
      "text/html": [
       "<div>\n",
       "<style scoped>\n",
       "    .dataframe tbody tr th:only-of-type {\n",
       "        vertical-align: middle;\n",
       "    }\n",
       "\n",
       "    .dataframe tbody tr th {\n",
       "        vertical-align: top;\n",
       "    }\n",
       "\n",
       "    .dataframe thead tr th {\n",
       "        text-align: left;\n",
       "    }\n",
       "\n",
       "    .dataframe thead tr:last-of-type th {\n",
       "        text-align: right;\n",
       "    }\n",
       "</style>\n",
       "<table border=\"1\" class=\"dataframe\">\n",
       "  <thead>\n",
       "    <tr>\n",
       "      <th></th>\n",
       "      <th colspan=\"6\" halign=\"left\">AGG</th>\n",
       "      <th colspan=\"6\" halign=\"left\">SPY</th>\n",
       "    </tr>\n",
       "    <tr>\n",
       "      <th></th>\n",
       "      <th>open</th>\n",
       "      <th>high</th>\n",
       "      <th>low</th>\n",
       "      <th>close</th>\n",
       "      <th>volume</th>\n",
       "      <th>daily_return</th>\n",
       "      <th>open</th>\n",
       "      <th>high</th>\n",
       "      <th>low</th>\n",
       "      <th>close</th>\n",
       "      <th>volume</th>\n",
       "      <th>daily_return</th>\n",
       "    </tr>\n",
       "    <tr>\n",
       "      <th>time</th>\n",
       "      <th></th>\n",
       "      <th></th>\n",
       "      <th></th>\n",
       "      <th></th>\n",
       "      <th></th>\n",
       "      <th></th>\n",
       "      <th></th>\n",
       "      <th></th>\n",
       "      <th></th>\n",
       "      <th></th>\n",
       "      <th></th>\n",
       "      <th></th>\n",
       "    </tr>\n",
       "  </thead>\n",
       "  <tbody>\n",
       "    <tr>\n",
       "      <th>2018-02-15 00:00:00-05:00</th>\n",
       "      <td>106.55</td>\n",
       "      <td>106.7272</td>\n",
       "      <td>106.5300</td>\n",
       "      <td>106.59</td>\n",
       "      <td>2398428.0</td>\n",
       "      <td>NaN</td>\n",
       "      <td>NaN</td>\n",
       "      <td>NaN</td>\n",
       "      <td>NaN</td>\n",
       "      <td>NaN</td>\n",
       "      <td>NaN</td>\n",
       "      <td>NaN</td>\n",
       "    </tr>\n",
       "    <tr>\n",
       "      <th>2018-02-16 00:00:00-05:00</th>\n",
       "      <td>106.85</td>\n",
       "      <td>106.8750</td>\n",
       "      <td>106.7100</td>\n",
       "      <td>106.81</td>\n",
       "      <td>3391074.0</td>\n",
       "      <td>0.002064</td>\n",
       "      <td>272.31</td>\n",
       "      <td>275.32</td>\n",
       "      <td>272.2700</td>\n",
       "      <td>273.090</td>\n",
       "      <td>76314679.0</td>\n",
       "      <td>NaN</td>\n",
       "    </tr>\n",
       "    <tr>\n",
       "      <th>2018-02-20 00:00:00-05:00</th>\n",
       "      <td>106.69</td>\n",
       "      <td>106.7099</td>\n",
       "      <td>106.5501</td>\n",
       "      <td>106.68</td>\n",
       "      <td>2372055.0</td>\n",
       "      <td>-0.001217</td>\n",
       "      <td>272.03</td>\n",
       "      <td>273.67</td>\n",
       "      <td>264.8400</td>\n",
       "      <td>271.430</td>\n",
       "      <td>54829423.0</td>\n",
       "      <td>-0.006079</td>\n",
       "    </tr>\n",
       "    <tr>\n",
       "      <th>2018-02-21 00:00:00-05:00</th>\n",
       "      <td>106.77</td>\n",
       "      <td>106.8000</td>\n",
       "      <td>106.2601</td>\n",
       "      <td>106.30</td>\n",
       "      <td>3017853.0</td>\n",
       "      <td>-0.003562</td>\n",
       "      <td>271.90</td>\n",
       "      <td>274.72</td>\n",
       "      <td>269.9800</td>\n",
       "      <td>270.000</td>\n",
       "      <td>67813909.0</td>\n",
       "      <td>-0.005268</td>\n",
       "    </tr>\n",
       "    <tr>\n",
       "      <th>2018-02-22 00:00:00-05:00</th>\n",
       "      <td>106.49</td>\n",
       "      <td>106.5600</td>\n",
       "      <td>106.3600</td>\n",
       "      <td>106.36</td>\n",
       "      <td>2150355.0</td>\n",
       "      <td>0.000564</td>\n",
       "      <td>271.09</td>\n",
       "      <td>273.05</td>\n",
       "      <td>269.6400</td>\n",
       "      <td>270.320</td>\n",
       "      <td>65771832.0</td>\n",
       "      <td>0.001185</td>\n",
       "    </tr>\n",
       "    <tr>\n",
       "      <th>...</th>\n",
       "      <td>...</td>\n",
       "      <td>...</td>\n",
       "      <td>...</td>\n",
       "      <td>...</td>\n",
       "      <td>...</td>\n",
       "      <td>...</td>\n",
       "      <td>...</td>\n",
       "      <td>...</td>\n",
       "      <td>...</td>\n",
       "      <td>...</td>\n",
       "      <td>...</td>\n",
       "      <td>...</td>\n",
       "    </tr>\n",
       "    <tr>\n",
       "      <th>2022-01-31 00:00:00-05:00</th>\n",
       "      <td>111.64</td>\n",
       "      <td>111.8900</td>\n",
       "      <td>111.6000</td>\n",
       "      <td>111.78</td>\n",
       "      <td>11437834.0</td>\n",
       "      <td>-0.000268</td>\n",
       "      <td>441.24</td>\n",
       "      <td>450.28</td>\n",
       "      <td>439.8100</td>\n",
       "      <td>449.815</td>\n",
       "      <td>128202383.0</td>\n",
       "      <td>0.017865</td>\n",
       "    </tr>\n",
       "    <tr>\n",
       "      <th>2022-02-01 00:00:00-05:00</th>\n",
       "      <td>111.66</td>\n",
       "      <td>111.6764</td>\n",
       "      <td>111.3800</td>\n",
       "      <td>111.59</td>\n",
       "      <td>9477222.0</td>\n",
       "      <td>-0.001700</td>\n",
       "      <td>450.72</td>\n",
       "      <td>453.63</td>\n",
       "      <td>446.9384</td>\n",
       "      <td>452.960</td>\n",
       "      <td>106515279.0</td>\n",
       "      <td>0.006992</td>\n",
       "    </tr>\n",
       "    <tr>\n",
       "      <th>2022-02-02 00:00:00-05:00</th>\n",
       "      <td>111.70</td>\n",
       "      <td>111.9700</td>\n",
       "      <td>111.6744</td>\n",
       "      <td>111.72</td>\n",
       "      <td>7424696.0</td>\n",
       "      <td>0.001165</td>\n",
       "      <td>455.50</td>\n",
       "      <td>458.12</td>\n",
       "      <td>453.0500</td>\n",
       "      <td>457.300</td>\n",
       "      <td>97807976.0</td>\n",
       "      <td>0.009581</td>\n",
       "    </tr>\n",
       "    <tr>\n",
       "      <th>2022-02-03 00:00:00-05:00</th>\n",
       "      <td>111.26</td>\n",
       "      <td>111.3700</td>\n",
       "      <td>111.1300</td>\n",
       "      <td>111.27</td>\n",
       "      <td>9480330.0</td>\n",
       "      <td>-0.004028</td>\n",
       "      <td>450.95</td>\n",
       "      <td>452.97</td>\n",
       "      <td>445.7100</td>\n",
       "      <td>446.640</td>\n",
       "      <td>99110054.0</td>\n",
       "      <td>-0.023311</td>\n",
       "    </tr>\n",
       "    <tr>\n",
       "      <th>2022-02-04 00:00:00-05:00</th>\n",
       "      <td>110.75</td>\n",
       "      <td>110.7500</td>\n",
       "      <td>110.4707</td>\n",
       "      <td>110.56</td>\n",
       "      <td>6762828.0</td>\n",
       "      <td>-0.006381</td>\n",
       "      <td>446.35</td>\n",
       "      <td>452.78</td>\n",
       "      <td>443.8300</td>\n",
       "      <td>448.730</td>\n",
       "      <td>98775229.0</td>\n",
       "      <td>0.004679</td>\n",
       "    </tr>\n",
       "  </tbody>\n",
       "</table>\n",
       "<p>1001 rows × 12 columns</p>\n",
       "</div>"
      ],
      "text/plain": [
       "                              AGG                                          \\\n",
       "                             open      high       low   close      volume   \n",
       "time                                                                        \n",
       "2018-02-15 00:00:00-05:00  106.55  106.7272  106.5300  106.59   2398428.0   \n",
       "2018-02-16 00:00:00-05:00  106.85  106.8750  106.7100  106.81   3391074.0   \n",
       "2018-02-20 00:00:00-05:00  106.69  106.7099  106.5501  106.68   2372055.0   \n",
       "2018-02-21 00:00:00-05:00  106.77  106.8000  106.2601  106.30   3017853.0   \n",
       "2018-02-22 00:00:00-05:00  106.49  106.5600  106.3600  106.36   2150355.0   \n",
       "...                           ...       ...       ...     ...         ...   \n",
       "2022-01-31 00:00:00-05:00  111.64  111.8900  111.6000  111.78  11437834.0   \n",
       "2022-02-01 00:00:00-05:00  111.66  111.6764  111.3800  111.59   9477222.0   \n",
       "2022-02-02 00:00:00-05:00  111.70  111.9700  111.6744  111.72   7424696.0   \n",
       "2022-02-03 00:00:00-05:00  111.26  111.3700  111.1300  111.27   9480330.0   \n",
       "2022-02-04 00:00:00-05:00  110.75  110.7500  110.4707  110.56   6762828.0   \n",
       "\n",
       "                                           SPY                             \\\n",
       "                          daily_return    open    high       low    close   \n",
       "time                                                                        \n",
       "2018-02-15 00:00:00-05:00          NaN     NaN     NaN       NaN      NaN   \n",
       "2018-02-16 00:00:00-05:00     0.002064  272.31  275.32  272.2700  273.090   \n",
       "2018-02-20 00:00:00-05:00    -0.001217  272.03  273.67  264.8400  271.430   \n",
       "2018-02-21 00:00:00-05:00    -0.003562  271.90  274.72  269.9800  270.000   \n",
       "2018-02-22 00:00:00-05:00     0.000564  271.09  273.05  269.6400  270.320   \n",
       "...                                ...     ...     ...       ...      ...   \n",
       "2022-01-31 00:00:00-05:00    -0.000268  441.24  450.28  439.8100  449.815   \n",
       "2022-02-01 00:00:00-05:00    -0.001700  450.72  453.63  446.9384  452.960   \n",
       "2022-02-02 00:00:00-05:00     0.001165  455.50  458.12  453.0500  457.300   \n",
       "2022-02-03 00:00:00-05:00    -0.004028  450.95  452.97  445.7100  446.640   \n",
       "2022-02-04 00:00:00-05:00    -0.006381  446.35  452.78  443.8300  448.730   \n",
       "\n",
       "                                                     \n",
       "                                volume daily_return  \n",
       "time                                                 \n",
       "2018-02-15 00:00:00-05:00          NaN          NaN  \n",
       "2018-02-16 00:00:00-05:00   76314679.0          NaN  \n",
       "2018-02-20 00:00:00-05:00   54829423.0    -0.006079  \n",
       "2018-02-21 00:00:00-05:00   67813909.0    -0.005268  \n",
       "2018-02-22 00:00:00-05:00   65771832.0     0.001185  \n",
       "...                                ...          ...  \n",
       "2022-01-31 00:00:00-05:00  128202383.0     0.017865  \n",
       "2022-02-01 00:00:00-05:00  106515279.0     0.006992  \n",
       "2022-02-02 00:00:00-05:00   97807976.0     0.009581  \n",
       "2022-02-03 00:00:00-05:00   99110054.0    -0.023311  \n",
       "2022-02-04 00:00:00-05:00   98775229.0     0.004679  \n",
       "\n",
       "[1001 rows x 12 columns]"
      ]
     },
     "execution_count": 30,
     "metadata": {},
     "output_type": "execute_result"
    }
   ],
   "source": [
    "# Configure the Monte Carlo simulation to forecast 30 years cumulative returns\n",
    "# The weights should be split 40% to AGG and 60% to SPY.\n",
    "# Run 500 samples.\n",
    "MC_60_40_portfolio = MCSimulation(\n",
    "    portfolio_data = three_year_df,\n",
    "    weights = [.60,.40],\n",
    "    num_simulation = 500,\n",
    "    num_trading_days = 252*30,\n",
    ")\n",
    "\n",
    "\n",
    "# Review the simulation input data\n",
    "\n",
    "MC_60_40_portfolio.portfolio_data"
   ]
  },
  {
   "cell_type": "code",
   "execution_count": 31,
   "metadata": {},
   "outputs": [
    {
     "name": "stdout",
     "output_type": "stream",
     "text": [
      "Running Monte Carlo simulation number 0.\n",
      "Running Monte Carlo simulation number 10.\n",
      "Running Monte Carlo simulation number 20.\n",
      "Running Monte Carlo simulation number 30.\n",
      "Running Monte Carlo simulation number 40.\n",
      "Running Monte Carlo simulation number 50.\n",
      "Running Monte Carlo simulation number 60.\n",
      "Running Monte Carlo simulation number 70.\n",
      "Running Monte Carlo simulation number 80.\n",
      "Running Monte Carlo simulation number 90.\n",
      "Running Monte Carlo simulation number 100.\n"
     ]
    },
    {
     "name": "stderr",
     "output_type": "stream",
     "text": [
      "/Users/joseviana-prieto/Documents/Bootcamp/challenges/financial_planning_tools/financial_planning_tools/MCForecastTools.py:117: PerformanceWarning: DataFrame is highly fragmented.  This is usually the result of calling `frame.insert` many times, which has poor performance.  Consider joining all columns at once using pd.concat(axis=1) instead.  To get a de-fragmented frame, use `newframe = frame.copy()`\n",
      "  portfolio_cumulative_returns[n] = (1 + sim_df.fillna(0)).cumprod()\n"
     ]
    },
    {
     "name": "stdout",
     "output_type": "stream",
     "text": [
      "Running Monte Carlo simulation number 110.\n",
      "Running Monte Carlo simulation number 120.\n",
      "Running Monte Carlo simulation number 130.\n",
      "Running Monte Carlo simulation number 140.\n",
      "Running Monte Carlo simulation number 150.\n",
      "Running Monte Carlo simulation number 160.\n",
      "Running Monte Carlo simulation number 170.\n",
      "Running Monte Carlo simulation number 180.\n",
      "Running Monte Carlo simulation number 190.\n",
      "Running Monte Carlo simulation number 200.\n",
      "Running Monte Carlo simulation number 210.\n",
      "Running Monte Carlo simulation number 220.\n",
      "Running Monte Carlo simulation number 230.\n",
      "Running Monte Carlo simulation number 240.\n",
      "Running Monte Carlo simulation number 250.\n",
      "Running Monte Carlo simulation number 260.\n",
      "Running Monte Carlo simulation number 270.\n",
      "Running Monte Carlo simulation number 280.\n",
      "Running Monte Carlo simulation number 290.\n",
      "Running Monte Carlo simulation number 300.\n",
      "Running Monte Carlo simulation number 310.\n",
      "Running Monte Carlo simulation number 320.\n",
      "Running Monte Carlo simulation number 330.\n",
      "Running Monte Carlo simulation number 340.\n",
      "Running Monte Carlo simulation number 350.\n",
      "Running Monte Carlo simulation number 360.\n",
      "Running Monte Carlo simulation number 370.\n",
      "Running Monte Carlo simulation number 380.\n",
      "Running Monte Carlo simulation number 390.\n",
      "Running Monte Carlo simulation number 400.\n",
      "Running Monte Carlo simulation number 410.\n",
      "Running Monte Carlo simulation number 420.\n",
      "Running Monte Carlo simulation number 430.\n",
      "Running Monte Carlo simulation number 440.\n",
      "Running Monte Carlo simulation number 450.\n",
      "Running Monte Carlo simulation number 460.\n",
      "Running Monte Carlo simulation number 470.\n",
      "Running Monte Carlo simulation number 480.\n",
      "Running Monte Carlo simulation number 490.\n"
     ]
    },
    {
     "data": {
      "text/html": [
       "<div>\n",
       "<style scoped>\n",
       "    .dataframe tbody tr th:only-of-type {\n",
       "        vertical-align: middle;\n",
       "    }\n",
       "\n",
       "    .dataframe tbody tr th {\n",
       "        vertical-align: top;\n",
       "    }\n",
       "\n",
       "    .dataframe thead th {\n",
       "        text-align: right;\n",
       "    }\n",
       "</style>\n",
       "<table border=\"1\" class=\"dataframe\">\n",
       "  <thead>\n",
       "    <tr style=\"text-align: right;\">\n",
       "      <th></th>\n",
       "      <th>0</th>\n",
       "      <th>1</th>\n",
       "      <th>2</th>\n",
       "      <th>3</th>\n",
       "      <th>4</th>\n",
       "      <th>5</th>\n",
       "      <th>6</th>\n",
       "      <th>7</th>\n",
       "      <th>8</th>\n",
       "      <th>9</th>\n",
       "      <th>...</th>\n",
       "      <th>490</th>\n",
       "      <th>491</th>\n",
       "      <th>492</th>\n",
       "      <th>493</th>\n",
       "      <th>494</th>\n",
       "      <th>495</th>\n",
       "      <th>496</th>\n",
       "      <th>497</th>\n",
       "      <th>498</th>\n",
       "      <th>499</th>\n",
       "    </tr>\n",
       "  </thead>\n",
       "  <tbody>\n",
       "    <tr>\n",
       "      <th>0</th>\n",
       "      <td>1.000000</td>\n",
       "      <td>1.000000</td>\n",
       "      <td>1.000000</td>\n",
       "      <td>1.000000</td>\n",
       "      <td>1.000000</td>\n",
       "      <td>1.000000</td>\n",
       "      <td>1.000000</td>\n",
       "      <td>1.000000</td>\n",
       "      <td>1.000000</td>\n",
       "      <td>1.000000</td>\n",
       "      <td>...</td>\n",
       "      <td>1.000000</td>\n",
       "      <td>1.000000</td>\n",
       "      <td>1.000000</td>\n",
       "      <td>1.000000</td>\n",
       "      <td>1.000000</td>\n",
       "      <td>1.000000</td>\n",
       "      <td>1.000000</td>\n",
       "      <td>1.000000</td>\n",
       "      <td>1.000000</td>\n",
       "      <td>1.000000</td>\n",
       "    </tr>\n",
       "    <tr>\n",
       "      <th>1</th>\n",
       "      <td>1.000458</td>\n",
       "      <td>1.010358</td>\n",
       "      <td>0.993180</td>\n",
       "      <td>0.991609</td>\n",
       "      <td>1.005989</td>\n",
       "      <td>1.002691</td>\n",
       "      <td>1.005719</td>\n",
       "      <td>1.001823</td>\n",
       "      <td>1.003472</td>\n",
       "      <td>0.998799</td>\n",
       "      <td>...</td>\n",
       "      <td>1.001526</td>\n",
       "      <td>1.006416</td>\n",
       "      <td>1.001611</td>\n",
       "      <td>1.009389</td>\n",
       "      <td>0.998321</td>\n",
       "      <td>1.014373</td>\n",
       "      <td>0.999693</td>\n",
       "      <td>0.999288</td>\n",
       "      <td>1.001601</td>\n",
       "      <td>1.006685</td>\n",
       "    </tr>\n",
       "    <tr>\n",
       "      <th>2</th>\n",
       "      <td>1.005057</td>\n",
       "      <td>1.012006</td>\n",
       "      <td>1.004381</td>\n",
       "      <td>0.986652</td>\n",
       "      <td>1.002948</td>\n",
       "      <td>0.987672</td>\n",
       "      <td>1.002514</td>\n",
       "      <td>1.002209</td>\n",
       "      <td>1.007023</td>\n",
       "      <td>0.984316</td>\n",
       "      <td>...</td>\n",
       "      <td>1.002636</td>\n",
       "      <td>1.008464</td>\n",
       "      <td>0.999429</td>\n",
       "      <td>1.007930</td>\n",
       "      <td>0.996620</td>\n",
       "      <td>1.025940</td>\n",
       "      <td>0.995057</td>\n",
       "      <td>0.998935</td>\n",
       "      <td>0.993330</td>\n",
       "      <td>1.007977</td>\n",
       "    </tr>\n",
       "    <tr>\n",
       "      <th>3</th>\n",
       "      <td>0.998612</td>\n",
       "      <td>1.002868</td>\n",
       "      <td>1.008065</td>\n",
       "      <td>0.980796</td>\n",
       "      <td>1.008858</td>\n",
       "      <td>0.986587</td>\n",
       "      <td>0.998151</td>\n",
       "      <td>1.001059</td>\n",
       "      <td>1.005857</td>\n",
       "      <td>0.986735</td>\n",
       "      <td>...</td>\n",
       "      <td>1.000446</td>\n",
       "      <td>1.009717</td>\n",
       "      <td>1.006536</td>\n",
       "      <td>1.017375</td>\n",
       "      <td>1.006745</td>\n",
       "      <td>1.032407</td>\n",
       "      <td>1.000450</td>\n",
       "      <td>0.992612</td>\n",
       "      <td>0.988739</td>\n",
       "      <td>1.007733</td>\n",
       "    </tr>\n",
       "    <tr>\n",
       "      <th>4</th>\n",
       "      <td>0.996315</td>\n",
       "      <td>1.002822</td>\n",
       "      <td>1.018002</td>\n",
       "      <td>0.974461</td>\n",
       "      <td>1.003456</td>\n",
       "      <td>0.983051</td>\n",
       "      <td>1.003241</td>\n",
       "      <td>0.994483</td>\n",
       "      <td>1.011516</td>\n",
       "      <td>0.982375</td>\n",
       "      <td>...</td>\n",
       "      <td>0.999444</td>\n",
       "      <td>1.006822</td>\n",
       "      <td>1.001348</td>\n",
       "      <td>1.015737</td>\n",
       "      <td>0.997050</td>\n",
       "      <td>1.030157</td>\n",
       "      <td>0.995019</td>\n",
       "      <td>0.991864</td>\n",
       "      <td>0.989340</td>\n",
       "      <td>0.999137</td>\n",
       "    </tr>\n",
       "    <tr>\n",
       "      <th>...</th>\n",
       "      <td>...</td>\n",
       "      <td>...</td>\n",
       "      <td>...</td>\n",
       "      <td>...</td>\n",
       "      <td>...</td>\n",
       "      <td>...</td>\n",
       "      <td>...</td>\n",
       "      <td>...</td>\n",
       "      <td>...</td>\n",
       "      <td>...</td>\n",
       "      <td>...</td>\n",
       "      <td>...</td>\n",
       "      <td>...</td>\n",
       "      <td>...</td>\n",
       "      <td>...</td>\n",
       "      <td>...</td>\n",
       "      <td>...</td>\n",
       "      <td>...</td>\n",
       "      <td>...</td>\n",
       "      <td>...</td>\n",
       "      <td>...</td>\n",
       "    </tr>\n",
       "    <tr>\n",
       "      <th>7556</th>\n",
       "      <td>9.878812</td>\n",
       "      <td>3.790791</td>\n",
       "      <td>10.205024</td>\n",
       "      <td>4.090030</td>\n",
       "      <td>7.073407</td>\n",
       "      <td>3.942901</td>\n",
       "      <td>7.755677</td>\n",
       "      <td>3.874535</td>\n",
       "      <td>8.447269</td>\n",
       "      <td>6.736052</td>\n",
       "      <td>...</td>\n",
       "      <td>8.023209</td>\n",
       "      <td>3.312555</td>\n",
       "      <td>7.176253</td>\n",
       "      <td>11.318348</td>\n",
       "      <td>8.643947</td>\n",
       "      <td>17.029405</td>\n",
       "      <td>4.531535</td>\n",
       "      <td>7.687831</td>\n",
       "      <td>8.107114</td>\n",
       "      <td>6.054212</td>\n",
       "    </tr>\n",
       "    <tr>\n",
       "      <th>7557</th>\n",
       "      <td>9.920236</td>\n",
       "      <td>3.789169</td>\n",
       "      <td>10.199515</td>\n",
       "      <td>4.104711</td>\n",
       "      <td>7.079272</td>\n",
       "      <td>3.974959</td>\n",
       "      <td>7.772209</td>\n",
       "      <td>3.881209</td>\n",
       "      <td>8.414914</td>\n",
       "      <td>6.772483</td>\n",
       "      <td>...</td>\n",
       "      <td>8.065849</td>\n",
       "      <td>3.316317</td>\n",
       "      <td>7.248442</td>\n",
       "      <td>11.332732</td>\n",
       "      <td>8.488653</td>\n",
       "      <td>17.013930</td>\n",
       "      <td>4.530876</td>\n",
       "      <td>7.724302</td>\n",
       "      <td>7.998527</td>\n",
       "      <td>6.079695</td>\n",
       "    </tr>\n",
       "    <tr>\n",
       "      <th>7558</th>\n",
       "      <td>9.863177</td>\n",
       "      <td>3.793366</td>\n",
       "      <td>10.278483</td>\n",
       "      <td>4.106486</td>\n",
       "      <td>7.111951</td>\n",
       "      <td>4.003750</td>\n",
       "      <td>7.757619</td>\n",
       "      <td>3.843182</td>\n",
       "      <td>8.454403</td>\n",
       "      <td>6.791055</td>\n",
       "      <td>...</td>\n",
       "      <td>8.113761</td>\n",
       "      <td>3.276269</td>\n",
       "      <td>7.225310</td>\n",
       "      <td>11.356085</td>\n",
       "      <td>8.469943</td>\n",
       "      <td>17.017390</td>\n",
       "      <td>4.543018</td>\n",
       "      <td>7.782378</td>\n",
       "      <td>7.957651</td>\n",
       "      <td>6.015739</td>\n",
       "    </tr>\n",
       "    <tr>\n",
       "      <th>7559</th>\n",
       "      <td>9.895890</td>\n",
       "      <td>3.797858</td>\n",
       "      <td>10.314450</td>\n",
       "      <td>4.137046</td>\n",
       "      <td>7.145274</td>\n",
       "      <td>3.994899</td>\n",
       "      <td>7.812117</td>\n",
       "      <td>3.858175</td>\n",
       "      <td>8.476786</td>\n",
       "      <td>6.710112</td>\n",
       "      <td>...</td>\n",
       "      <td>8.110239</td>\n",
       "      <td>3.284382</td>\n",
       "      <td>7.261754</td>\n",
       "      <td>11.278042</td>\n",
       "      <td>8.570012</td>\n",
       "      <td>16.926758</td>\n",
       "      <td>4.532380</td>\n",
       "      <td>7.776456</td>\n",
       "      <td>8.018088</td>\n",
       "      <td>6.020749</td>\n",
       "    </tr>\n",
       "    <tr>\n",
       "      <th>7560</th>\n",
       "      <td>9.896049</td>\n",
       "      <td>3.803870</td>\n",
       "      <td>10.384708</td>\n",
       "      <td>4.123911</td>\n",
       "      <td>7.042837</td>\n",
       "      <td>4.004948</td>\n",
       "      <td>7.825896</td>\n",
       "      <td>3.880136</td>\n",
       "      <td>8.503065</td>\n",
       "      <td>6.712427</td>\n",
       "      <td>...</td>\n",
       "      <td>8.197306</td>\n",
       "      <td>3.288208</td>\n",
       "      <td>7.218019</td>\n",
       "      <td>11.351451</td>\n",
       "      <td>8.648307</td>\n",
       "      <td>16.955994</td>\n",
       "      <td>4.559717</td>\n",
       "      <td>7.804152</td>\n",
       "      <td>8.055260</td>\n",
       "      <td>6.000453</td>\n",
       "    </tr>\n",
       "  </tbody>\n",
       "</table>\n",
       "<p>7561 rows × 500 columns</p>\n",
       "</div>"
      ],
      "text/plain": [
       "           0         1          2         3         4         5         6    \\\n",
       "0     1.000000  1.000000   1.000000  1.000000  1.000000  1.000000  1.000000   \n",
       "1     1.000458  1.010358   0.993180  0.991609  1.005989  1.002691  1.005719   \n",
       "2     1.005057  1.012006   1.004381  0.986652  1.002948  0.987672  1.002514   \n",
       "3     0.998612  1.002868   1.008065  0.980796  1.008858  0.986587  0.998151   \n",
       "4     0.996315  1.002822   1.018002  0.974461  1.003456  0.983051  1.003241   \n",
       "...        ...       ...        ...       ...       ...       ...       ...   \n",
       "7556  9.878812  3.790791  10.205024  4.090030  7.073407  3.942901  7.755677   \n",
       "7557  9.920236  3.789169  10.199515  4.104711  7.079272  3.974959  7.772209   \n",
       "7558  9.863177  3.793366  10.278483  4.106486  7.111951  4.003750  7.757619   \n",
       "7559  9.895890  3.797858  10.314450  4.137046  7.145274  3.994899  7.812117   \n",
       "7560  9.896049  3.803870  10.384708  4.123911  7.042837  4.004948  7.825896   \n",
       "\n",
       "           7         8         9    ...       490       491       492  \\\n",
       "0     1.000000  1.000000  1.000000  ...  1.000000  1.000000  1.000000   \n",
       "1     1.001823  1.003472  0.998799  ...  1.001526  1.006416  1.001611   \n",
       "2     1.002209  1.007023  0.984316  ...  1.002636  1.008464  0.999429   \n",
       "3     1.001059  1.005857  0.986735  ...  1.000446  1.009717  1.006536   \n",
       "4     0.994483  1.011516  0.982375  ...  0.999444  1.006822  1.001348   \n",
       "...        ...       ...       ...  ...       ...       ...       ...   \n",
       "7556  3.874535  8.447269  6.736052  ...  8.023209  3.312555  7.176253   \n",
       "7557  3.881209  8.414914  6.772483  ...  8.065849  3.316317  7.248442   \n",
       "7558  3.843182  8.454403  6.791055  ...  8.113761  3.276269  7.225310   \n",
       "7559  3.858175  8.476786  6.710112  ...  8.110239  3.284382  7.261754   \n",
       "7560  3.880136  8.503065  6.712427  ...  8.197306  3.288208  7.218019   \n",
       "\n",
       "            493       494        495       496       497       498       499  \n",
       "0      1.000000  1.000000   1.000000  1.000000  1.000000  1.000000  1.000000  \n",
       "1      1.009389  0.998321   1.014373  0.999693  0.999288  1.001601  1.006685  \n",
       "2      1.007930  0.996620   1.025940  0.995057  0.998935  0.993330  1.007977  \n",
       "3      1.017375  1.006745   1.032407  1.000450  0.992612  0.988739  1.007733  \n",
       "4      1.015737  0.997050   1.030157  0.995019  0.991864  0.989340  0.999137  \n",
       "...         ...       ...        ...       ...       ...       ...       ...  \n",
       "7556  11.318348  8.643947  17.029405  4.531535  7.687831  8.107114  6.054212  \n",
       "7557  11.332732  8.488653  17.013930  4.530876  7.724302  7.998527  6.079695  \n",
       "7558  11.356085  8.469943  17.017390  4.543018  7.782378  7.957651  6.015739  \n",
       "7559  11.278042  8.570012  16.926758  4.532380  7.776456  8.018088  6.020749  \n",
       "7560  11.351451  8.648307  16.955994  4.559717  7.804152  8.055260  6.000453  \n",
       "\n",
       "[7561 rows x 500 columns]"
      ]
     },
     "execution_count": 31,
     "metadata": {},
     "output_type": "execute_result"
    }
   ],
   "source": [
    "# Run the Monte Carlo simulation to forecast 30 years cumulative returns\n",
    "MC_60_40_portfolio.calc_cumulative_return()"
   ]
  },
  {
   "cell_type": "code",
   "execution_count": 32,
   "metadata": {},
   "outputs": [
    {
     "data": {
      "text/plain": [
       "<AxesSubplot:title={'center':'500 Simulations of Cumulative Portfolio Return Trajectories Over the Next 7560 Trading Days.'}>"
      ]
     },
     "execution_count": 32,
     "metadata": {},
     "output_type": "execute_result"
    },
    {
     "data": {
      "image/png": "[encoded data removed]",
      "text/plain": [
       "<Figure size 432x288 with 1 Axes>"
      ]
     },
     "metadata": {
      "needs_background": "light"
     },
     "output_type": "display_data"
    }
   ],
   "source": [
    "# Visualize the 30-year Monte Carlo simulation by creating an\n",
    "# overlay line plot\n",
    "MC_60_40_portfolio.plot_simulation()"
   ]
  },
  {
   "cell_type": "markdown",
   "metadata": {},
   "source": [
    "#### Step 3: Plot the probability distribution of the Monte Carlo simulation."
   ]
  },
  {
   "cell_type": "code",
   "execution_count": 33,
   "metadata": {},
   "outputs": [
    {
     "data": {
      "text/plain": [
       "<AxesSubplot:title={'center':'Distribution of Final Cumuluative Returns Across All 500 Simulations'}, ylabel='Frequency'>"
      ]
     },
     "execution_count": 33,
     "metadata": {},
     "output_type": "execute_result"
    },
    {
     "data": {
      "image/png": "[encoded data removed]",
      "text/plain": [
       "<Figure size 432x288 with 1 Axes>"
      ]
     },
     "metadata": {
      "needs_background": "light"
     },
     "output_type": "display_data"
    }
   ],
   "source": [
    "# Visualize the probability distribution of the 30-year Monte Carlo simulation \n",
    "# by plotting a histogram\n",
    "MC_60_40_portfolio.plot_distribution()"
   ]
  },
  {
   "cell_type": "markdown",
   "metadata": {},
   "source": [
    "#### Step 4: Generate the summary statistics for the Monte Carlo simulation."
   ]
  },
  {
   "cell_type": "code",
   "execution_count": 34,
   "metadata": {},
   "outputs": [
    {
     "data": {
      "text/plain": [
       "count           500.000000\n",
       "mean              7.066840\n",
       "std               3.802506\n",
       "min               1.339802\n",
       "25%               4.350461\n",
       "50%               6.214443\n",
       "75%               8.882606\n",
       "max              27.724991\n",
       "95% CI Lower      2.179530\n",
       "95% CI Upper     16.886281\n",
       "Name: 7560, dtype: float64"
      ]
     },
     "execution_count": 34,
     "metadata": {},
     "output_type": "execute_result"
    }
   ],
   "source": [
    "# Generate summary statistics from the 30-year Monte Carlo simulation results\n",
    "# Save the results as a variable\n",
    "MC_60_40_summary_table =MC_60_40_portfolio.summarize_cumulative_return()\n",
    "\n",
    "\n",
    "# Review the 30-year Monte Carlo summary statistics\n",
    "MC_60_40_summary_table"
   ]
  },
  {
   "cell_type": "markdown",
   "metadata": {},
   "source": [
    "### Analyze the Retirement Portfolio Forecasts\n",
    "\n",
    "Using the current value of only the stock and bond portion of the member's portfolio and the summary statistics that you generated from the Monte Carlo simulation, answer the following question in your Jupyter notebook:\n",
    "\n",
    "-  What are the lower and upper bounds for the expected value of the portfolio with a 95% confidence interval?\n",
    "**Lower: $151,672.71 (2.499159*60689.5)\n",
    "Upper: $1,060,906.11 (17.480884*60689.5)\n"
   ]
  },
  {
   "cell_type": "code",
   "execution_count": 35,
   "metadata": {},
   "outputs": [
    {
     "name": "stdout",
     "output_type": "stream",
     "text": [
      "The current value of the stock portfolio is $36800.5\n",
      "The current value of the bond portfolio is $23889.0\n",
      "The current balance of the stock and bond portfolio is $60689.5\n"
     ]
    }
   ],
   "source": [
    "# Print the current balance of the stock and bond portion of the members portfolio\n",
    "print(f\"The current value of the stock portfolio is ${spy_value}\")\n",
    "print(f\"The current value of the bond portfolio is ${agg_value}\")\n",
    "print(f\"The current balance of the stock and bond portfolio is ${total_stocks_bonds}\")\n"
   ]
  },
  {
   "cell_type": "code",
   "execution_count": 36,
   "metadata": {},
   "outputs": [
    {
     "name": "stdout",
     "output_type": "stream",
     "text": [
      "There is a 95% chance that an initial investment of $60689.5 in the portfolio with a 60% weigh in the S&P500 and 40% in AGG over the following 30 years will land within the range of $132274.58 and $1024819.94.\n"
     ]
    }
   ],
   "source": [
    "# Use the lower and upper `95%` confidence intervals to calculate the range of the possible outcomes for the current stock/bond portfolio\n",
    "ci_lower_thirty_cumulative_return = round(MC_60_40_summary_table[8]*total_stocks_bonds,2)\n",
    "ci_upper_thirty_cumulative_return = round(MC_60_40_summary_table[9]*total_stocks_bonds,2)\n",
    "\n",
    "# Print the result of your calculations\n",
    "print(f\"There is a 95% chance that an initial investment of ${total_stocks_bonds} in the portfolio\"\n",
    "      f\" with a 60% weigh in the S&P500 and 40% in AGG over the following 30 years will land within the range of\"\n",
    "      f\" ${ci_lower_thirty_cumulative_return} and ${ci_upper_thirty_cumulative_return}.\")"
   ]
  },
  {
   "cell_type": "markdown",
   "metadata": {},
   "source": [
    "### Forecast Cumulative Returns in 10 Years\n",
    "\n",
    "The CTO of the credit union is impressed with your work on these planning tools but wonders if 30 years is a long time to wait until retirement. So, your next task is to adjust the retirement portfolio and run a new Monte Carlo simulation to find out if the changes will allow members to retire earlier.\n",
    "\n",
    "For this new Monte Carlo simulation, do the following: \n",
    "\n",
    "- Forecast the cumulative returns for 10 years from now. Because of the shortened investment horizon (30 years to 10 years), the portfolio needs to invest more heavily in the riskier asset&mdash;that is, stock&mdash;to help accumulate wealth for retirement. \n",
    "\n",
    "- Adjust the weights of the retirement portfolio so that the composition for the Monte Carlo simulation consists of 20% bonds and 80% stocks. \n",
    "\n",
    "- Run the simulation over 500 samples, and use the same data that the API call to Alpaca generated.\n",
    "\n",
    "- Based on the new Monte Carlo simulation, answer the following questions in your Jupyter notebook:\n",
    "\n",
    "    - Using the current value of only the stock and bond portion of the member's portfolio and the summary statistics that you generated from the new Monte Carlo simulation, what are the lower and upper bounds for the expected value of the portfolio (with the new weights) with a 95% confidence interval?\n",
    "\n",
    "    - Will weighting the portfolio more heavily toward stocks allow the credit union members to retire after only 10 years?\n"
   ]
  },
  {
   "cell_type": "code",
   "execution_count": 37,
   "metadata": {},
   "outputs": [
    {
     "data": {
      "text/html": [
       "<div>\n",
       "<style scoped>\n",
       "    .dataframe tbody tr th:only-of-type {\n",
       "        vertical-align: middle;\n",
       "    }\n",
       "\n",
       "    .dataframe tbody tr th {\n",
       "        vertical-align: top;\n",
       "    }\n",
       "\n",
       "    .dataframe thead tr th {\n",
       "        text-align: left;\n",
       "    }\n",
       "\n",
       "    .dataframe thead tr:last-of-type th {\n",
       "        text-align: right;\n",
       "    }\n",
       "</style>\n",
       "<table border=\"1\" class=\"dataframe\">\n",
       "  <thead>\n",
       "    <tr>\n",
       "      <th></th>\n",
       "      <th colspan=\"6\" halign=\"left\">AGG</th>\n",
       "      <th colspan=\"6\" halign=\"left\">SPY</th>\n",
       "    </tr>\n",
       "    <tr>\n",
       "      <th></th>\n",
       "      <th>open</th>\n",
       "      <th>high</th>\n",
       "      <th>low</th>\n",
       "      <th>close</th>\n",
       "      <th>volume</th>\n",
       "      <th>daily_return</th>\n",
       "      <th>open</th>\n",
       "      <th>high</th>\n",
       "      <th>low</th>\n",
       "      <th>close</th>\n",
       "      <th>volume</th>\n",
       "      <th>daily_return</th>\n",
       "    </tr>\n",
       "    <tr>\n",
       "      <th>time</th>\n",
       "      <th></th>\n",
       "      <th></th>\n",
       "      <th></th>\n",
       "      <th></th>\n",
       "      <th></th>\n",
       "      <th></th>\n",
       "      <th></th>\n",
       "      <th></th>\n",
       "      <th></th>\n",
       "      <th></th>\n",
       "      <th></th>\n",
       "      <th></th>\n",
       "    </tr>\n",
       "  </thead>\n",
       "  <tbody>\n",
       "    <tr>\n",
       "      <th>2018-02-15 00:00:00-05:00</th>\n",
       "      <td>106.55</td>\n",
       "      <td>106.7272</td>\n",
       "      <td>106.5300</td>\n",
       "      <td>106.59</td>\n",
       "      <td>2398428.0</td>\n",
       "      <td>NaN</td>\n",
       "      <td>NaN</td>\n",
       "      <td>NaN</td>\n",
       "      <td>NaN</td>\n",
       "      <td>NaN</td>\n",
       "      <td>NaN</td>\n",
       "      <td>NaN</td>\n",
       "    </tr>\n",
       "    <tr>\n",
       "      <th>2018-02-16 00:00:00-05:00</th>\n",
       "      <td>106.85</td>\n",
       "      <td>106.8750</td>\n",
       "      <td>106.7100</td>\n",
       "      <td>106.81</td>\n",
       "      <td>3391074.0</td>\n",
       "      <td>0.002064</td>\n",
       "      <td>272.31</td>\n",
       "      <td>275.32</td>\n",
       "      <td>272.2700</td>\n",
       "      <td>273.090</td>\n",
       "      <td>76314679.0</td>\n",
       "      <td>NaN</td>\n",
       "    </tr>\n",
       "    <tr>\n",
       "      <th>2018-02-20 00:00:00-05:00</th>\n",
       "      <td>106.69</td>\n",
       "      <td>106.7099</td>\n",
       "      <td>106.5501</td>\n",
       "      <td>106.68</td>\n",
       "      <td>2372055.0</td>\n",
       "      <td>-0.001217</td>\n",
       "      <td>272.03</td>\n",
       "      <td>273.67</td>\n",
       "      <td>264.8400</td>\n",
       "      <td>271.430</td>\n",
       "      <td>54829423.0</td>\n",
       "      <td>-0.006079</td>\n",
       "    </tr>\n",
       "    <tr>\n",
       "      <th>2018-02-21 00:00:00-05:00</th>\n",
       "      <td>106.77</td>\n",
       "      <td>106.8000</td>\n",
       "      <td>106.2601</td>\n",
       "      <td>106.30</td>\n",
       "      <td>3017853.0</td>\n",
       "      <td>-0.003562</td>\n",
       "      <td>271.90</td>\n",
       "      <td>274.72</td>\n",
       "      <td>269.9800</td>\n",
       "      <td>270.000</td>\n",
       "      <td>67813909.0</td>\n",
       "      <td>-0.005268</td>\n",
       "    </tr>\n",
       "    <tr>\n",
       "      <th>2018-02-22 00:00:00-05:00</th>\n",
       "      <td>106.49</td>\n",
       "      <td>106.5600</td>\n",
       "      <td>106.3600</td>\n",
       "      <td>106.36</td>\n",
       "      <td>2150355.0</td>\n",
       "      <td>0.000564</td>\n",
       "      <td>271.09</td>\n",
       "      <td>273.05</td>\n",
       "      <td>269.6400</td>\n",
       "      <td>270.320</td>\n",
       "      <td>65771832.0</td>\n",
       "      <td>0.001185</td>\n",
       "    </tr>\n",
       "    <tr>\n",
       "      <th>...</th>\n",
       "      <td>...</td>\n",
       "      <td>...</td>\n",
       "      <td>...</td>\n",
       "      <td>...</td>\n",
       "      <td>...</td>\n",
       "      <td>...</td>\n",
       "      <td>...</td>\n",
       "      <td>...</td>\n",
       "      <td>...</td>\n",
       "      <td>...</td>\n",
       "      <td>...</td>\n",
       "      <td>...</td>\n",
       "    </tr>\n",
       "    <tr>\n",
       "      <th>2022-01-31 00:00:00-05:00</th>\n",
       "      <td>111.64</td>\n",
       "      <td>111.8900</td>\n",
       "      <td>111.6000</td>\n",
       "      <td>111.78</td>\n",
       "      <td>11437834.0</td>\n",
       "      <td>-0.000268</td>\n",
       "      <td>441.24</td>\n",
       "      <td>450.28</td>\n",
       "      <td>439.8100</td>\n",
       "      <td>449.815</td>\n",
       "      <td>128202383.0</td>\n",
       "      <td>0.017865</td>\n",
       "    </tr>\n",
       "    <tr>\n",
       "      <th>2022-02-01 00:00:00-05:00</th>\n",
       "      <td>111.66</td>\n",
       "      <td>111.6764</td>\n",
       "      <td>111.3800</td>\n",
       "      <td>111.59</td>\n",
       "      <td>9477222.0</td>\n",
       "      <td>-0.001700</td>\n",
       "      <td>450.72</td>\n",
       "      <td>453.63</td>\n",
       "      <td>446.9384</td>\n",
       "      <td>452.960</td>\n",
       "      <td>106515279.0</td>\n",
       "      <td>0.006992</td>\n",
       "    </tr>\n",
       "    <tr>\n",
       "      <th>2022-02-02 00:00:00-05:00</th>\n",
       "      <td>111.70</td>\n",
       "      <td>111.9700</td>\n",
       "      <td>111.6744</td>\n",
       "      <td>111.72</td>\n",
       "      <td>7424696.0</td>\n",
       "      <td>0.001165</td>\n",
       "      <td>455.50</td>\n",
       "      <td>458.12</td>\n",
       "      <td>453.0500</td>\n",
       "      <td>457.300</td>\n",
       "      <td>97807976.0</td>\n",
       "      <td>0.009581</td>\n",
       "    </tr>\n",
       "    <tr>\n",
       "      <th>2022-02-03 00:00:00-05:00</th>\n",
       "      <td>111.26</td>\n",
       "      <td>111.3700</td>\n",
       "      <td>111.1300</td>\n",
       "      <td>111.27</td>\n",
       "      <td>9480330.0</td>\n",
       "      <td>-0.004028</td>\n",
       "      <td>450.95</td>\n",
       "      <td>452.97</td>\n",
       "      <td>445.7100</td>\n",
       "      <td>446.640</td>\n",
       "      <td>99110054.0</td>\n",
       "      <td>-0.023311</td>\n",
       "    </tr>\n",
       "    <tr>\n",
       "      <th>2022-02-04 00:00:00-05:00</th>\n",
       "      <td>110.75</td>\n",
       "      <td>110.7500</td>\n",
       "      <td>110.4707</td>\n",
       "      <td>110.56</td>\n",
       "      <td>6762828.0</td>\n",
       "      <td>-0.006381</td>\n",
       "      <td>446.35</td>\n",
       "      <td>452.78</td>\n",
       "      <td>443.8300</td>\n",
       "      <td>448.730</td>\n",
       "      <td>98775229.0</td>\n",
       "      <td>0.004679</td>\n",
       "    </tr>\n",
       "  </tbody>\n",
       "</table>\n",
       "<p>1001 rows × 12 columns</p>\n",
       "</div>"
      ],
      "text/plain": [
       "                              AGG                                          \\\n",
       "                             open      high       low   close      volume   \n",
       "time                                                                        \n",
       "2018-02-15 00:00:00-05:00  106.55  106.7272  106.5300  106.59   2398428.0   \n",
       "2018-02-16 00:00:00-05:00  106.85  106.8750  106.7100  106.81   3391074.0   \n",
       "2018-02-20 00:00:00-05:00  106.69  106.7099  106.5501  106.68   2372055.0   \n",
       "2018-02-21 00:00:00-05:00  106.77  106.8000  106.2601  106.30   3017853.0   \n",
       "2018-02-22 00:00:00-05:00  106.49  106.5600  106.3600  106.36   2150355.0   \n",
       "...                           ...       ...       ...     ...         ...   \n",
       "2022-01-31 00:00:00-05:00  111.64  111.8900  111.6000  111.78  11437834.0   \n",
       "2022-02-01 00:00:00-05:00  111.66  111.6764  111.3800  111.59   9477222.0   \n",
       "2022-02-02 00:00:00-05:00  111.70  111.9700  111.6744  111.72   7424696.0   \n",
       "2022-02-03 00:00:00-05:00  111.26  111.3700  111.1300  111.27   9480330.0   \n",
       "2022-02-04 00:00:00-05:00  110.75  110.7500  110.4707  110.56   6762828.0   \n",
       "\n",
       "                                           SPY                             \\\n",
       "                          daily_return    open    high       low    close   \n",
       "time                                                                        \n",
       "2018-02-15 00:00:00-05:00          NaN     NaN     NaN       NaN      NaN   \n",
       "2018-02-16 00:00:00-05:00     0.002064  272.31  275.32  272.2700  273.090   \n",
       "2018-02-20 00:00:00-05:00    -0.001217  272.03  273.67  264.8400  271.430   \n",
       "2018-02-21 00:00:00-05:00    -0.003562  271.90  274.72  269.9800  270.000   \n",
       "2018-02-22 00:00:00-05:00     0.000564  271.09  273.05  269.6400  270.320   \n",
       "...                                ...     ...     ...       ...      ...   \n",
       "2022-01-31 00:00:00-05:00    -0.000268  441.24  450.28  439.8100  449.815   \n",
       "2022-02-01 00:00:00-05:00    -0.001700  450.72  453.63  446.9384  452.960   \n",
       "2022-02-02 00:00:00-05:00     0.001165  455.50  458.12  453.0500  457.300   \n",
       "2022-02-03 00:00:00-05:00    -0.004028  450.95  452.97  445.7100  446.640   \n",
       "2022-02-04 00:00:00-05:00    -0.006381  446.35  452.78  443.8300  448.730   \n",
       "\n",
       "                                                     \n",
       "                                volume daily_return  \n",
       "time                                                 \n",
       "2018-02-15 00:00:00-05:00          NaN          NaN  \n",
       "2018-02-16 00:00:00-05:00   76314679.0          NaN  \n",
       "2018-02-20 00:00:00-05:00   54829423.0    -0.006079  \n",
       "2018-02-21 00:00:00-05:00   67813909.0    -0.005268  \n",
       "2018-02-22 00:00:00-05:00   65771832.0     0.001185  \n",
       "...                                ...          ...  \n",
       "2022-01-31 00:00:00-05:00  128202383.0     0.017865  \n",
       "2022-02-01 00:00:00-05:00  106515279.0     0.006992  \n",
       "2022-02-02 00:00:00-05:00   97807976.0     0.009581  \n",
       "2022-02-03 00:00:00-05:00   99110054.0    -0.023311  \n",
       "2022-02-04 00:00:00-05:00   98775229.0     0.004679  \n",
       "\n",
       "[1001 rows x 12 columns]"
      ]
     },
     "execution_count": 37,
     "metadata": {},
     "output_type": "execute_result"
    }
   ],
   "source": [
    "# Configure a Monte Carlo simulation to forecast 10 years cumulative returns\n",
    "# The weights should be split 20% to AGG and 80% to SPY.\n",
    "# Run 500 samples.\n",
    "MC_80_20_portfolio = MCSimulation(\n",
    "    portfolio_data = three_year_df,\n",
    "    weights = [.80,.20],\n",
    "    num_simulation = 500,\n",
    "    num_trading_days = 252*10,\n",
    ")\n",
    "\n",
    "\n",
    "# Review the simulation input data\n",
    "MC_80_20_portfolio.portfolio_data"
   ]
  },
  {
   "cell_type": "code",
   "execution_count": 38,
   "metadata": {},
   "outputs": [
    {
     "name": "stdout",
     "output_type": "stream",
     "text": [
      "Running Monte Carlo simulation number 0.\n",
      "Running Monte Carlo simulation number 10.\n",
      "Running Monte Carlo simulation number 20.\n",
      "Running Monte Carlo simulation number 30.\n",
      "Running Monte Carlo simulation number 40.\n",
      "Running Monte Carlo simulation number 50.\n",
      "Running Monte Carlo simulation number 60.\n",
      "Running Monte Carlo simulation number 70.\n",
      "Running Monte Carlo simulation number 80.\n",
      "Running Monte Carlo simulation number 90.\n",
      "Running Monte Carlo simulation number 100.\n"
     ]
    },
    {
     "name": "stderr",
     "output_type": "stream",
     "text": [
      "/Users/joseviana-prieto/Documents/Bootcamp/challenges/financial_planning_tools/financial_planning_tools/MCForecastTools.py:117: PerformanceWarning: DataFrame is highly fragmented.  This is usually the result of calling `frame.insert` many times, which has poor performance.  Consider joining all columns at once using pd.concat(axis=1) instead.  To get a de-fragmented frame, use `newframe = frame.copy()`\n",
      "  portfolio_cumulative_returns[n] = (1 + sim_df.fillna(0)).cumprod()\n"
     ]
    },
    {
     "name": "stdout",
     "output_type": "stream",
     "text": [
      "Running Monte Carlo simulation number 110.\n",
      "Running Monte Carlo simulation number 120.\n",
      "Running Monte Carlo simulation number 130.\n",
      "Running Monte Carlo simulation number 140.\n",
      "Running Monte Carlo simulation number 150.\n",
      "Running Monte Carlo simulation number 160.\n",
      "Running Monte Carlo simulation number 170.\n",
      "Running Monte Carlo simulation number 180.\n",
      "Running Monte Carlo simulation number 190.\n",
      "Running Monte Carlo simulation number 200.\n",
      "Running Monte Carlo simulation number 210.\n",
      "Running Monte Carlo simulation number 220.\n",
      "Running Monte Carlo simulation number 230.\n",
      "Running Monte Carlo simulation number 240.\n",
      "Running Monte Carlo simulation number 250.\n",
      "Running Monte Carlo simulation number 260.\n",
      "Running Monte Carlo simulation number 270.\n",
      "Running Monte Carlo simulation number 280.\n",
      "Running Monte Carlo simulation number 290.\n",
      "Running Monte Carlo simulation number 300.\n",
      "Running Monte Carlo simulation number 310.\n",
      "Running Monte Carlo simulation number 320.\n",
      "Running Monte Carlo simulation number 330.\n",
      "Running Monte Carlo simulation number 340.\n",
      "Running Monte Carlo simulation number 350.\n",
      "Running Monte Carlo simulation number 360.\n",
      "Running Monte Carlo simulation number 370.\n",
      "Running Monte Carlo simulation number 380.\n",
      "Running Monte Carlo simulation number 390.\n",
      "Running Monte Carlo simulation number 400.\n",
      "Running Monte Carlo simulation number 410.\n",
      "Running Monte Carlo simulation number 420.\n",
      "Running Monte Carlo simulation number 430.\n",
      "Running Monte Carlo simulation number 440.\n",
      "Running Monte Carlo simulation number 450.\n",
      "Running Monte Carlo simulation number 460.\n",
      "Running Monte Carlo simulation number 470.\n",
      "Running Monte Carlo simulation number 480.\n",
      "Running Monte Carlo simulation number 490.\n"
     ]
    },
    {
     "data": {
      "text/html": [
       "<div>\n",
       "<style scoped>\n",
       "    .dataframe tbody tr th:only-of-type {\n",
       "        vertical-align: middle;\n",
       "    }\n",
       "\n",
       "    .dataframe tbody tr th {\n",
       "        vertical-align: top;\n",
       "    }\n",
       "\n",
       "    .dataframe thead th {\n",
       "        text-align: right;\n",
       "    }\n",
       "</style>\n",
       "<table border=\"1\" class=\"dataframe\">\n",
       "  <thead>\n",
       "    <tr style=\"text-align: right;\">\n",
       "      <th></th>\n",
       "      <th>0</th>\n",
       "      <th>1</th>\n",
       "      <th>2</th>\n",
       "      <th>3</th>\n",
       "      <th>4</th>\n",
       "      <th>5</th>\n",
       "      <th>6</th>\n",
       "      <th>7</th>\n",
       "      <th>8</th>\n",
       "      <th>9</th>\n",
       "      <th>...</th>\n",
       "      <th>490</th>\n",
       "      <th>491</th>\n",
       "      <th>492</th>\n",
       "      <th>493</th>\n",
       "      <th>494</th>\n",
       "      <th>495</th>\n",
       "      <th>496</th>\n",
       "      <th>497</th>\n",
       "      <th>498</th>\n",
       "      <th>499</th>\n",
       "    </tr>\n",
       "  </thead>\n",
       "  <tbody>\n",
       "    <tr>\n",
       "      <th>0</th>\n",
       "      <td>1.000000</td>\n",
       "      <td>1.000000</td>\n",
       "      <td>1.000000</td>\n",
       "      <td>1.000000</td>\n",
       "      <td>1.000000</td>\n",
       "      <td>1.000000</td>\n",
       "      <td>1.000000</td>\n",
       "      <td>1.000000</td>\n",
       "      <td>1.000000</td>\n",
       "      <td>1.000000</td>\n",
       "      <td>...</td>\n",
       "      <td>1.000000</td>\n",
       "      <td>1.000000</td>\n",
       "      <td>1.000000</td>\n",
       "      <td>1.000000</td>\n",
       "      <td>1.000000</td>\n",
       "      <td>1.000000</td>\n",
       "      <td>1.000000</td>\n",
       "      <td>1.000000</td>\n",
       "      <td>1.000000</td>\n",
       "      <td>1.000000</td>\n",
       "    </tr>\n",
       "    <tr>\n",
       "      <th>1</th>\n",
       "      <td>0.997122</td>\n",
       "      <td>1.001648</td>\n",
       "      <td>0.997407</td>\n",
       "      <td>1.001049</td>\n",
       "      <td>1.002893</td>\n",
       "      <td>1.002247</td>\n",
       "      <td>1.004699</td>\n",
       "      <td>1.004956</td>\n",
       "      <td>0.999716</td>\n",
       "      <td>1.004285</td>\n",
       "      <td>...</td>\n",
       "      <td>0.995356</td>\n",
       "      <td>0.995198</td>\n",
       "      <td>0.994774</td>\n",
       "      <td>1.003472</td>\n",
       "      <td>1.002338</td>\n",
       "      <td>1.003930</td>\n",
       "      <td>1.000245</td>\n",
       "      <td>0.999077</td>\n",
       "      <td>0.993609</td>\n",
       "      <td>0.995989</td>\n",
       "    </tr>\n",
       "    <tr>\n",
       "      <th>2</th>\n",
       "      <td>0.993199</td>\n",
       "      <td>1.000952</td>\n",
       "      <td>0.992748</td>\n",
       "      <td>1.003528</td>\n",
       "      <td>1.000555</td>\n",
       "      <td>0.997227</td>\n",
       "      <td>1.001262</td>\n",
       "      <td>0.997058</td>\n",
       "      <td>1.000091</td>\n",
       "      <td>0.997693</td>\n",
       "      <td>...</td>\n",
       "      <td>0.995400</td>\n",
       "      <td>1.003389</td>\n",
       "      <td>0.994563</td>\n",
       "      <td>1.004697</td>\n",
       "      <td>1.004873</td>\n",
       "      <td>1.008534</td>\n",
       "      <td>1.000449</td>\n",
       "      <td>0.995360</td>\n",
       "      <td>0.992737</td>\n",
       "      <td>1.002256</td>\n",
       "    </tr>\n",
       "    <tr>\n",
       "      <th>3</th>\n",
       "      <td>0.995747</td>\n",
       "      <td>0.997302</td>\n",
       "      <td>0.993389</td>\n",
       "      <td>1.000531</td>\n",
       "      <td>0.996573</td>\n",
       "      <td>0.996476</td>\n",
       "      <td>0.998051</td>\n",
       "      <td>0.995948</td>\n",
       "      <td>0.993862</td>\n",
       "      <td>0.996310</td>\n",
       "      <td>...</td>\n",
       "      <td>0.999331</td>\n",
       "      <td>1.009028</td>\n",
       "      <td>0.993386</td>\n",
       "      <td>1.004613</td>\n",
       "      <td>0.999389</td>\n",
       "      <td>1.005619</td>\n",
       "      <td>1.001893</td>\n",
       "      <td>0.995468</td>\n",
       "      <td>0.991694</td>\n",
       "      <td>1.002378</td>\n",
       "    </tr>\n",
       "    <tr>\n",
       "      <th>4</th>\n",
       "      <td>0.996341</td>\n",
       "      <td>0.993134</td>\n",
       "      <td>1.002658</td>\n",
       "      <td>1.002806</td>\n",
       "      <td>0.990472</td>\n",
       "      <td>0.997200</td>\n",
       "      <td>0.997845</td>\n",
       "      <td>0.992154</td>\n",
       "      <td>0.999072</td>\n",
       "      <td>0.993038</td>\n",
       "      <td>...</td>\n",
       "      <td>0.995138</td>\n",
       "      <td>1.006868</td>\n",
       "      <td>1.000241</td>\n",
       "      <td>1.012861</td>\n",
       "      <td>0.998384</td>\n",
       "      <td>1.001071</td>\n",
       "      <td>1.003432</td>\n",
       "      <td>0.993967</td>\n",
       "      <td>0.994107</td>\n",
       "      <td>0.999575</td>\n",
       "    </tr>\n",
       "    <tr>\n",
       "      <th>...</th>\n",
       "      <td>...</td>\n",
       "      <td>...</td>\n",
       "      <td>...</td>\n",
       "      <td>...</td>\n",
       "      <td>...</td>\n",
       "      <td>...</td>\n",
       "      <td>...</td>\n",
       "      <td>...</td>\n",
       "      <td>...</td>\n",
       "      <td>...</td>\n",
       "      <td>...</td>\n",
       "      <td>...</td>\n",
       "      <td>...</td>\n",
       "      <td>...</td>\n",
       "      <td>...</td>\n",
       "      <td>...</td>\n",
       "      <td>...</td>\n",
       "      <td>...</td>\n",
       "      <td>...</td>\n",
       "      <td>...</td>\n",
       "      <td>...</td>\n",
       "    </tr>\n",
       "    <tr>\n",
       "      <th>2516</th>\n",
       "      <td>1.348540</td>\n",
       "      <td>0.902960</td>\n",
       "      <td>1.226742</td>\n",
       "      <td>1.600638</td>\n",
       "      <td>1.077941</td>\n",
       "      <td>1.152511</td>\n",
       "      <td>1.553114</td>\n",
       "      <td>1.101437</td>\n",
       "      <td>1.664465</td>\n",
       "      <td>1.907015</td>\n",
       "      <td>...</td>\n",
       "      <td>1.197276</td>\n",
       "      <td>1.660210</td>\n",
       "      <td>1.244707</td>\n",
       "      <td>1.506085</td>\n",
       "      <td>1.252226</td>\n",
       "      <td>0.931869</td>\n",
       "      <td>0.905817</td>\n",
       "      <td>1.284284</td>\n",
       "      <td>1.167275</td>\n",
       "      <td>1.402891</td>\n",
       "    </tr>\n",
       "    <tr>\n",
       "      <th>2517</th>\n",
       "      <td>1.347045</td>\n",
       "      <td>0.899969</td>\n",
       "      <td>1.232408</td>\n",
       "      <td>1.594667</td>\n",
       "      <td>1.084624</td>\n",
       "      <td>1.151299</td>\n",
       "      <td>1.556831</td>\n",
       "      <td>1.100254</td>\n",
       "      <td>1.677378</td>\n",
       "      <td>1.910923</td>\n",
       "      <td>...</td>\n",
       "      <td>1.194100</td>\n",
       "      <td>1.662525</td>\n",
       "      <td>1.240521</td>\n",
       "      <td>1.509458</td>\n",
       "      <td>1.253218</td>\n",
       "      <td>0.933233</td>\n",
       "      <td>0.910029</td>\n",
       "      <td>1.278858</td>\n",
       "      <td>1.162813</td>\n",
       "      <td>1.406721</td>\n",
       "    </tr>\n",
       "    <tr>\n",
       "      <th>2518</th>\n",
       "      <td>1.345991</td>\n",
       "      <td>0.894315</td>\n",
       "      <td>1.231085</td>\n",
       "      <td>1.589639</td>\n",
       "      <td>1.080383</td>\n",
       "      <td>1.156220</td>\n",
       "      <td>1.567197</td>\n",
       "      <td>1.101402</td>\n",
       "      <td>1.679896</td>\n",
       "      <td>1.904580</td>\n",
       "      <td>...</td>\n",
       "      <td>1.192105</td>\n",
       "      <td>1.657558</td>\n",
       "      <td>1.242074</td>\n",
       "      <td>1.511597</td>\n",
       "      <td>1.250793</td>\n",
       "      <td>0.936065</td>\n",
       "      <td>0.915282</td>\n",
       "      <td>1.270611</td>\n",
       "      <td>1.166435</td>\n",
       "      <td>1.409330</td>\n",
       "    </tr>\n",
       "    <tr>\n",
       "      <th>2519</th>\n",
       "      <td>1.350588</td>\n",
       "      <td>0.894414</td>\n",
       "      <td>1.237734</td>\n",
       "      <td>1.584961</td>\n",
       "      <td>1.080764</td>\n",
       "      <td>1.151406</td>\n",
       "      <td>1.566926</td>\n",
       "      <td>1.100521</td>\n",
       "      <td>1.674757</td>\n",
       "      <td>1.897649</td>\n",
       "      <td>...</td>\n",
       "      <td>1.190882</td>\n",
       "      <td>1.656296</td>\n",
       "      <td>1.242872</td>\n",
       "      <td>1.517119</td>\n",
       "      <td>1.244610</td>\n",
       "      <td>0.940744</td>\n",
       "      <td>0.914289</td>\n",
       "      <td>1.270289</td>\n",
       "      <td>1.161866</td>\n",
       "      <td>1.399280</td>\n",
       "    </tr>\n",
       "    <tr>\n",
       "      <th>2520</th>\n",
       "      <td>1.366459</td>\n",
       "      <td>0.891960</td>\n",
       "      <td>1.242551</td>\n",
       "      <td>1.589681</td>\n",
       "      <td>1.084371</td>\n",
       "      <td>1.146295</td>\n",
       "      <td>1.561834</td>\n",
       "      <td>1.104217</td>\n",
       "      <td>1.670290</td>\n",
       "      <td>1.900309</td>\n",
       "      <td>...</td>\n",
       "      <td>1.189828</td>\n",
       "      <td>1.656198</td>\n",
       "      <td>1.242173</td>\n",
       "      <td>1.515271</td>\n",
       "      <td>1.249439</td>\n",
       "      <td>0.938749</td>\n",
       "      <td>0.909533</td>\n",
       "      <td>1.273997</td>\n",
       "      <td>1.165505</td>\n",
       "      <td>1.395443</td>\n",
       "    </tr>\n",
       "  </tbody>\n",
       "</table>\n",
       "<p>2521 rows × 500 columns</p>\n",
       "</div>"
      ],
      "text/plain": [
       "           0         1         2         3         4         5         6    \\\n",
       "0     1.000000  1.000000  1.000000  1.000000  1.000000  1.000000  1.000000   \n",
       "1     0.997122  1.001648  0.997407  1.001049  1.002893  1.002247  1.004699   \n",
       "2     0.993199  1.000952  0.992748  1.003528  1.000555  0.997227  1.001262   \n",
       "3     0.995747  0.997302  0.993389  1.000531  0.996573  0.996476  0.998051   \n",
       "4     0.996341  0.993134  1.002658  1.002806  0.990472  0.997200  0.997845   \n",
       "...        ...       ...       ...       ...       ...       ...       ...   \n",
       "2516  1.348540  0.902960  1.226742  1.600638  1.077941  1.152511  1.553114   \n",
       "2517  1.347045  0.899969  1.232408  1.594667  1.084624  1.151299  1.556831   \n",
       "2518  1.345991  0.894315  1.231085  1.589639  1.080383  1.156220  1.567197   \n",
       "2519  1.350588  0.894414  1.237734  1.584961  1.080764  1.151406  1.566926   \n",
       "2520  1.366459  0.891960  1.242551  1.589681  1.084371  1.146295  1.561834   \n",
       "\n",
       "           7         8         9    ...       490       491       492  \\\n",
       "0     1.000000  1.000000  1.000000  ...  1.000000  1.000000  1.000000   \n",
       "1     1.004956  0.999716  1.004285  ...  0.995356  0.995198  0.994774   \n",
       "2     0.997058  1.000091  0.997693  ...  0.995400  1.003389  0.994563   \n",
       "3     0.995948  0.993862  0.996310  ...  0.999331  1.009028  0.993386   \n",
       "4     0.992154  0.999072  0.993038  ...  0.995138  1.006868  1.000241   \n",
       "...        ...       ...       ...  ...       ...       ...       ...   \n",
       "2516  1.101437  1.664465  1.907015  ...  1.197276  1.660210  1.244707   \n",
       "2517  1.100254  1.677378  1.910923  ...  1.194100  1.662525  1.240521   \n",
       "2518  1.101402  1.679896  1.904580  ...  1.192105  1.657558  1.242074   \n",
       "2519  1.100521  1.674757  1.897649  ...  1.190882  1.656296  1.242872   \n",
       "2520  1.104217  1.670290  1.900309  ...  1.189828  1.656198  1.242173   \n",
       "\n",
       "           493       494       495       496       497       498       499  \n",
       "0     1.000000  1.000000  1.000000  1.000000  1.000000  1.000000  1.000000  \n",
       "1     1.003472  1.002338  1.003930  1.000245  0.999077  0.993609  0.995989  \n",
       "2     1.004697  1.004873  1.008534  1.000449  0.995360  0.992737  1.002256  \n",
       "3     1.004613  0.999389  1.005619  1.001893  0.995468  0.991694  1.002378  \n",
       "4     1.012861  0.998384  1.001071  1.003432  0.993967  0.994107  0.999575  \n",
       "...        ...       ...       ...       ...       ...       ...       ...  \n",
       "2516  1.506085  1.252226  0.931869  0.905817  1.284284  1.167275  1.402891  \n",
       "2517  1.509458  1.253218  0.933233  0.910029  1.278858  1.162813  1.406721  \n",
       "2518  1.511597  1.250793  0.936065  0.915282  1.270611  1.166435  1.409330  \n",
       "2519  1.517119  1.244610  0.940744  0.914289  1.270289  1.161866  1.399280  \n",
       "2520  1.515271  1.249439  0.938749  0.909533  1.273997  1.165505  1.395443  \n",
       "\n",
       "[2521 rows x 500 columns]"
      ]
     },
     "execution_count": 38,
     "metadata": {},
     "output_type": "execute_result"
    }
   ],
   "source": [
    "# Run the Monte Carlo simulation to forecast 10 years cumulative returns\n",
    "MC_80_20_portfolio.calc_cumulative_return()"
   ]
  },
  {
   "cell_type": "code",
   "execution_count": 39,
   "metadata": {},
   "outputs": [
    {
     "data": {
      "text/plain": [
       "<AxesSubplot:title={'center':'500 Simulations of Cumulative Portfolio Return Trajectories Over the Next 2520 Trading Days.'}>"
      ]
     },
     "execution_count": 39,
     "metadata": {},
     "output_type": "execute_result"
    },
    {
     "data": {
      "image/png": "[encoded data removed]",
      "text/plain": [
       "<Figure size 432x288 with 1 Axes>"
      ]
     },
     "metadata": {
      "needs_background": "light"
     },
     "output_type": "display_data"
    }
   ],
   "source": [
    "# Visualize the 10-year Monte Carlo simulation by creating an\n",
    "# overlay line plot\n",
    "MC_80_20_portfolio.plot_simulation()\n"
   ]
  },
  {
   "cell_type": "code",
   "execution_count": 40,
   "metadata": {},
   "outputs": [
    {
     "data": {
      "text/plain": [
       "<AxesSubplot:title={'center':'Distribution of Final Cumuluative Returns Across All 500 Simulations'}, ylabel='Frequency'>"
      ]
     },
     "execution_count": 40,
     "metadata": {},
     "output_type": "execute_result"
    },
    {
     "data": {
      "image/png": "[encoded data removed]",
      "text/plain": [
       "<Figure size 432x288 with 1 Axes>"
      ]
     },
     "metadata": {
      "needs_background": "light"
     },
     "output_type": "display_data"
    }
   ],
   "source": [
    "# Visualize the probability distribution of the 10-year Monte Carlo simulation \n",
    "# by plotting a histogram\n",
    "MC_80_20_portfolio.plot_distribution()\n"
   ]
  },
  {
   "cell_type": "code",
   "execution_count": 41,
   "metadata": {},
   "outputs": [
    {
     "data": {
      "text/plain": [
       "count           500.000000\n",
       "mean              1.456958\n",
       "std               0.273154\n",
       "min               0.862416\n",
       "25%               1.259098\n",
       "50%               1.437444\n",
       "75%               1.633605\n",
       "max               2.477181\n",
       "95% CI Lower      0.999265\n",
       "95% CI Upper      2.090046\n",
       "Name: 2520, dtype: float64"
      ]
     },
     "execution_count": 41,
     "metadata": {},
     "output_type": "execute_result"
    }
   ],
   "source": [
    "# Generate summary statistics from the 10-year Monte Carlo simulation results\n",
    "# Save the results as a variable\n",
    "MC_80_20_summary_table = MC_80_20_portfolio.summarize_cumulative_return()\n",
    "\n",
    "\n",
    "# Review the 10-year Monte Carlo summary statistics\n",
    "MC_80_20_summary_table"
   ]
  },
  {
   "cell_type": "markdown",
   "metadata": {},
   "source": [
    "### Answer the following questions:"
   ]
  },
  {
   "cell_type": "markdown",
   "metadata": {},
   "source": [
    "#### Question: Using the current value of only the stock and bond portion of the member's portfolio and the summary statistics that you generated from the new Monte Carlo simulation, what are the lower and upper bounds for the expected value of the portfolio (with the new weights) with a 95% confidence interval?\n",
    "\n",
    "Lower:  $58,451.39(0.963122∗60689.5)\n",
    "Upper: $123,664.08 (2.037652*60689.5)"
   ]
  },
  {
   "cell_type": "code",
   "execution_count": 42,
   "metadata": {},
   "outputs": [
    {
     "name": "stdout",
     "output_type": "stream",
     "text": [
      "The current value of the stock portfolios is $36800.5\n",
      "The current value of the bond portfolios is $23889.0\n",
      "The current balance of the stock and bond portfolio is $60689.5\n"
     ]
    }
   ],
   "source": [
    "# Print the current balance of the stock and bond portion of the members portfolio\n",
    "print(f\"The current value of the stock portfolios is ${spy_value}\")\n",
    "print(f\"The current value of the bond portfolios is ${agg_value}\")\n",
    "print(f\"The current balance of the stock and bond portfolio is ${total_stocks_bonds}\")"
   ]
  },
  {
   "cell_type": "code",
   "execution_count": 43,
   "metadata": {},
   "outputs": [
    {
     "name": "stdout",
     "output_type": "stream",
     "text": [
      "There is a 95% chance that an initial investment of 60689.5 in the portfolio with a 80% weight in S&P 500 and 20% in AGG over the next 10 years will end within the range of $60644.91 and $126843.87.\n"
     ]
    }
   ],
   "source": [
    "# Use the lower and upper `95%` confidence intervals to calculate the range of the possible outcomes for the current stock/bond portfolio\n",
    "ci_lower_ten_cumulative_return = round(MC_80_20_summary_table[8]*total_stocks_bonds,2)\n",
    "ci_upper_ten_cumulative_return = round(MC_80_20_summary_table[9]*total_stocks_bonds,2)\n",
    "\n",
    "# Print the result of your calculations\n",
    "# YOUR CODE HERE\n",
    "print(f\"There is a 95% chance that an initial investment of {total_stocks_bonds} in the portfolio\"\n",
    "      f\" with a 80% weight in S&P 500 and 20% in AGG over the next 10 years will end within the range of\"\n",
    "      f\" ${ci_lower_ten_cumulative_return} and ${ci_upper_ten_cumulative_return}.\")"
   ]
  },
  {
   "cell_type": "markdown",
   "metadata": {},
   "source": [
    "#### Question: Will weighting the portfolio more heavily to stocks allow the credit union members to retire after only 10 years?"
   ]
  },
  {
   "cell_type": "raw",
   "metadata": {},
   "source": [
    "**Answer** # No, there is still not enough yield despite the more aggressive strategy based on the cost of living in California"
   ]
  }
 ],
 "metadata": {
  "kernelspec": {
   "display_name": "dev",
   "language": "python",
   "name": "dev"
  },
  "language_info": {
   "codemirror_mode": {
    "name": "ipython",
    "version": 3
   },
   "file_extension": ".py",
   "mimetype": "text/x-python",
   "name": "python",
   "nbconvert_exporter": "python",
   "pygments_lexer": "ipython3",
   "version": "3.9.7"
  }
 },
 "nbformat": 4,
 "nbformat_minor": 4
}
